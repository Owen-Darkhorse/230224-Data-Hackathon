{
  "cells": [
    {
      "cell_type": "markdown",
      "source": [
        "#Preparation for Analysis: Import Modulos/Packages/Dataset"
      ],
      "metadata": {
        "id": "-GRaH4U4cVPs"
      }
    },
    {
      "cell_type": "code",
      "execution_count": null,
      "metadata": {
        "colab": {
          "base_uri": "https://localhost:8080/"
        },
        "id": "HbdbieXjY_Bi",
        "outputId": "81478606-982f-4d9a-fc97-a0057e322f20"
      },
      "outputs": [
        {
          "output_type": "stream",
          "name": "stdout",
          "text": [
            "Looking in indexes: https://pypi.org/simple, https://us-python.pkg.dev/colab-wheels/public/simple/\n",
            "Collecting git+https://github.com/tensorflow/docs\n",
            "  Cloning https://github.com/tensorflow/docs to /tmp/pip-req-build-ffvt9_qr\n",
            "  Running command git clone --filter=blob:none --quiet https://github.com/tensorflow/docs /tmp/pip-req-build-ffvt9_qr\n",
            "  Resolved https://github.com/tensorflow/docs to commit a89b900f18bb647a8a5cba40997eacbe801c0fc0\n",
            "  Preparing metadata (setup.py) ... \u001b[?25l\u001b[?25hdone\n",
            "Requirement already satisfied: astor in /usr/local/lib/python3.8/dist-packages (from tensorflow-docs==0.0.0.dev0) (0.8.1)\n",
            "Requirement already satisfied: absl-py in /usr/local/lib/python3.8/dist-packages (from tensorflow-docs==0.0.0.dev0) (1.4.0)\n",
            "Requirement already satisfied: jinja2 in /usr/local/lib/python3.8/dist-packages (from tensorflow-docs==0.0.0.dev0) (2.11.3)\n",
            "Requirement already satisfied: nbformat in /usr/local/lib/python3.8/dist-packages (from tensorflow-docs==0.0.0.dev0) (5.7.3)\n",
            "Requirement already satisfied: protobuf in /usr/local/lib/python3.8/dist-packages (from tensorflow-docs==0.0.0.dev0) (3.19.6)\n",
            "Requirement already satisfied: pyyaml in /usr/local/lib/python3.8/dist-packages (from tensorflow-docs==0.0.0.dev0) (6.0)\n",
            "Requirement already satisfied: MarkupSafe>=0.23 in /usr/local/lib/python3.8/dist-packages (from jinja2->tensorflow-docs==0.0.0.dev0) (2.0.1)\n",
            "Requirement already satisfied: jupyter-core in /usr/local/lib/python3.8/dist-packages (from nbformat->tensorflow-docs==0.0.0.dev0) (5.2.0)\n",
            "Requirement already satisfied: jsonschema>=2.6 in /usr/local/lib/python3.8/dist-packages (from nbformat->tensorflow-docs==0.0.0.dev0) (4.3.3)\n",
            "Requirement already satisfied: fastjsonschema in /usr/local/lib/python3.8/dist-packages (from nbformat->tensorflow-docs==0.0.0.dev0) (2.16.2)\n",
            "Requirement already satisfied: traitlets>=5.1 in /usr/local/lib/python3.8/dist-packages (from nbformat->tensorflow-docs==0.0.0.dev0) (5.7.1)\n",
            "Requirement already satisfied: importlib-resources>=1.4.0 in /usr/local/lib/python3.8/dist-packages (from jsonschema>=2.6->nbformat->tensorflow-docs==0.0.0.dev0) (5.12.0)\n",
            "Requirement already satisfied: attrs>=17.4.0 in /usr/local/lib/python3.8/dist-packages (from jsonschema>=2.6->nbformat->tensorflow-docs==0.0.0.dev0) (22.2.0)\n",
            "Requirement already satisfied: pyrsistent!=0.17.0,!=0.17.1,!=0.17.2,>=0.14.0 in /usr/local/lib/python3.8/dist-packages (from jsonschema>=2.6->nbformat->tensorflow-docs==0.0.0.dev0) (0.19.3)\n",
            "Requirement already satisfied: platformdirs>=2.5 in /usr/local/lib/python3.8/dist-packages (from jupyter-core->nbformat->tensorflow-docs==0.0.0.dev0) (3.0.0)\n",
            "Requirement already satisfied: zipp>=3.1.0 in /usr/local/lib/python3.8/dist-packages (from importlib-resources>=1.4.0->jsonschema>=2.6->nbformat->tensorflow-docs==0.0.0.dev0) (3.14.0)\n"
          ]
        }
      ],
      "source": [
        "pip install git+https://github.com/tensorflow/docs"
      ]
    },
    {
      "cell_type": "code",
      "execution_count": null,
      "metadata": {
        "id": "yw5Nh0qzYVuw"
      },
      "outputs": [],
      "source": [
        "# for the operating system operations e.g., creating a folder.\n",
        "import os\n",
        "\n",
        "import tensorflow as tf\n",
        "from tensorflow import keras\n",
        "\n",
        "from sklearn.model_selection import train_test_split\n"
      ]
    },
    {
      "cell_type": "code",
      "execution_count": null,
      "metadata": {
        "id": "V0UtYsD0Yp0_"
      },
      "outputs": [],
      "source": [
        "# import NN layers and other componenets.\n",
        "from tensorflow.keras.models import Sequential\n",
        "from tensorflow.keras.layers import Activation, Dense, BatchNormalization, Dropout\n",
        "from tensorflow.keras import optimizers"
      ]
    },
    {
      "cell_type": "code",
      "execution_count": null,
      "metadata": {
        "id": "4uRawYzKY1Lb"
      },
      "outputs": [],
      "source": [
        "# Tensorflow untils packages.\n",
        "import tensorflow_docs as tfdocs\n",
        "import tensorflow_docs.plots\n",
        "import tensorflow_docs.modeling"
      ]
    },
    {
      "cell_type": "code",
      "execution_count": null,
      "metadata": {
        "id": "9iFrjRhnZQ9D"
      },
      "outputs": [],
      "source": [
        "import pathlib # for processing a path e.g., c:\\documents\\files\\test_ds.csv\n",
        "import matplotlib.pyplot as plt # for plotting data and creating different charts.\n",
        "import numpy as np # for math and arrays\n",
        "import pandas as pd # data from for the data.\n",
        "import seaborn as sns # for plotting."
      ]
    },
    {
      "cell_type": "code",
      "execution_count": null,
      "metadata": {
        "colab": {
          "base_uri": "https://localhost:8080/"
        },
        "id": "ExKL_BdKyL4Z",
        "outputId": "ba9ce85d-3a11-49fd-d5f1-32aa04d70052"
      },
      "outputs": [
        {
          "output_type": "stream",
          "name": "stdout",
          "text": [
            "Drive already mounted at /content/drive; to attempt to forcibly remount, call drive.mount(\"/content/drive\", force_remount=True).\n",
            "/content/drive/MyDrive/Colab Notebooks\n"
          ]
        }
      ],
      "source": [
        "from google.colab import drive\n",
        "drive.mount('/content/drive')\n",
        "%cd /content/drive/MyDrive/Colab Notebooks"
      ]
    },
    {
      "cell_type": "code",
      "execution_count": null,
      "metadata": {
        "id": "bce6pOlEZcGQ"
      },
      "outputs": [],
      "source": [
        "tf.random.set_seed(100) # to make sure the experiment is reproducible.\n",
        "tf.debugging.set_log_device_placement(False)"
      ]
    },
    {
      "cell_type": "code",
      "execution_count": null,
      "metadata": {
        "id": "OgNEd5_zZexW"
      },
      "outputs": [],
      "source": [
        "# read in the dataset\n",
        "train_ds = pd.read_csv('af2_dataset_training_labeled.csv.gz')\n",
        "test_ds = pd.read_csv('af2_dataset_testset_unlabeled.csv.gz')"
      ]
    },
    {
      "cell_type": "code",
      "source": [
        "train_ds.info()"
      ],
      "metadata": {
        "colab": {
          "base_uri": "https://localhost:8080/"
        },
        "id": "lshf1ZhRgft4",
        "outputId": "2faacee5-6ebd-462c-a43a-e881dbc0e92c"
      },
      "execution_count": null,
      "outputs": [
        {
          "output_type": "stream",
          "name": "stdout",
          "text": [
            "<class 'pandas.core.frame.DataFrame'>\n",
            "RangeIndex: 497166 entries, 0 to 497165\n",
            "Data columns (total 51 columns):\n",
            " #   Column               Non-Null Count   Dtype  \n",
            "---  ------               --------------   -----  \n",
            " 0   Unnamed: 0           497166 non-null  int64  \n",
            " 1   annotation_sequence  497166 non-null  object \n",
            " 2   feat_A               497166 non-null  bool   \n",
            " 3   feat_C               497166 non-null  bool   \n",
            " 4   feat_D               497166 non-null  bool   \n",
            " 5   feat_E               497166 non-null  bool   \n",
            " 6   feat_F               497166 non-null  bool   \n",
            " 7   feat_G               497166 non-null  bool   \n",
            " 8   feat_H               497166 non-null  bool   \n",
            " 9   feat_I               497166 non-null  bool   \n",
            " 10  feat_K               497166 non-null  bool   \n",
            " 11  feat_L               497166 non-null  bool   \n",
            " 12  feat_M               497166 non-null  bool   \n",
            " 13  feat_N               497166 non-null  bool   \n",
            " 14  feat_P               497166 non-null  bool   \n",
            " 15  feat_Q               497166 non-null  bool   \n",
            " 16  feat_R               497166 non-null  bool   \n",
            " 17  feat_S               497166 non-null  bool   \n",
            " 18  feat_T               497166 non-null  bool   \n",
            " 19  feat_V               497166 non-null  bool   \n",
            " 20  feat_W               497166 non-null  bool   \n",
            " 21  feat_Y               497166 non-null  bool   \n",
            " 22  annotation_atomrec   484477 non-null  object \n",
            " 23  feat_PHI             497166 non-null  float64\n",
            " 24  feat_PSI             497166 non-null  float64\n",
            " 25  feat_TAU             497166 non-null  float64\n",
            " 26  feat_THETA           497166 non-null  float64\n",
            " 27  feat_BBSASA          497166 non-null  float64\n",
            " 28  feat_SCSASA          497166 non-null  float64\n",
            " 29  feat_pLDDT           497166 non-null  float64\n",
            " 30  feat_DSSP_H          497166 non-null  bool   \n",
            " 31  feat_DSSP_B          497166 non-null  bool   \n",
            " 32  feat_DSSP_E          497166 non-null  bool   \n",
            " 33  feat_DSSP_G          497166 non-null  bool   \n",
            " 34  feat_DSSP_I          497166 non-null  bool   \n",
            " 35  feat_DSSP_T          497166 non-null  bool   \n",
            " 36  feat_DSSP_S          497166 non-null  bool   \n",
            " 37  feat_DSSP_6          497166 non-null  int64  \n",
            " 38  feat_DSSP_7          497166 non-null  float64\n",
            " 39  feat_DSSP_8          497166 non-null  int64  \n",
            " 40  feat_DSSP_9          497166 non-null  float64\n",
            " 41  feat_DSSP_10         497166 non-null  int64  \n",
            " 42  feat_DSSP_11         497166 non-null  float64\n",
            " 43  feat_DSSP_12         497166 non-null  int64  \n",
            " 44  feat_DSSP_13         497166 non-null  float64\n",
            " 45  coord_X              497166 non-null  float64\n",
            " 46  coord_Y              497166 non-null  float64\n",
            " 47  coord_Z              497166 non-null  float64\n",
            " 48  entry                497166 non-null  object \n",
            " 49  entry_index          497166 non-null  int64  \n",
            " 50  y_Ligand             497166 non-null  bool   \n",
            "dtypes: bool(28), float64(14), int64(6), object(3)\n",
            "memory usage: 100.5+ MB\n"
          ]
        }
      ]
    },
    {
      "cell_type": "markdown",
      "source": [
        "# Data Preprocessing (Copy From Final Model Building)"
      ],
      "metadata": {
        "id": "J36ivsBklnh9"
      }
    },
    {
      "cell_type": "markdown",
      "source": [
        "##Categorical Data Preprocessing"
      ],
      "metadata": {
        "id": "sstTGliloEXL"
      }
    },
    {
      "cell_type": "markdown",
      "source": [
        "Augment amino acid information"
      ],
      "metadata": {
        "id": "n2FQ1RjbmHad"
      }
    },
    {
      "cell_type": "code",
      "source": [
        "amino_properties = pd.read_csv(\"20 Common Amino Acids Properties - Sheet1.csv\")\n",
        "amino_properties['abbr'] = ['A', 'R', 'N', 'D', 'C', 'E', 'Q', 'G', 'H',\n",
        "                            'I', 'L', 'K', 'M', 'F', 'P', 'S', 'T', 'W',\n",
        "                            'Y', 'V']\n",
        "amino_properties[\"Sidechain Polarity\"] = amino_properties[\"Sidechain Polarity\"].map({\"Polar\":1, \"Non-polar\":0})\n",
        "amino_properties[\"Sidechain Acidicity/Basicity\"] = amino_properties[\"Sidechain Acidicity/Basicity\"].map({\"Acidic\":1, \"Neutral\":0, \"Basic\":-1})\n",
        "amino_properties[\"Hydrophobic/Hydrophilic\"] = amino_properties[\"Hydrophobic/Hydrophilic\"].map({\"Hydrophilic\":1, \"Neutral\":0, \"Hydrophobic\":-1})\n",
        "amino_properties.drop('Name', axis = 1, inplace=True)\n",
        "\n",
        "amino_properties.columns = [\"Polarity\", \"Acidity\", \"Hydro\", \"Abbr\"]\n"
      ],
      "metadata": {
        "id": "pIpDHzy7l8lE"
      },
      "execution_count": null,
      "outputs": []
    },
    {
      "cell_type": "code",
      "source": [
        "# amino_properties.rename({\"Sidechain Polarity\":\"Polarity\", \"Sidechain Acidicity/Basicity\":\"Acidity\", \"Hydrophobic/Hydrophilic\":\"Hydro\"}, \n",
        "                        # axis = 1, inplace=True)\n",
        "train_ds = pd.merge(left = train_ds, right = amino_properties, how = 'left', left_on='annotation_sequence', right_on='Abbr',\n",
        "         suffixes = ('', ''))\n",
        "test_ds = pd.merge(left = test_ds, right = amino_properties, how = 'left', left_on='annotation_sequence', right_on='Abbr',\n",
        "         suffixes = ('', ''))\n"
      ],
      "metadata": {
        "id": "Gcy_nzr5l8si"
      },
      "execution_count": null,
      "outputs": []
    },
    {
      "cell_type": "code",
      "source": [
        "train_ds.head()"
      ],
      "metadata": {
        "colab": {
          "base_uri": "https://localhost:8080/",
          "height": 236
        },
        "id": "ybv1cf2jrOey",
        "outputId": "67c4e566-8467-4c6b-a49c-7b8a354e83b3"
      },
      "execution_count": null,
      "outputs": [
        {
          "output_type": "execute_result",
          "data": {
            "text/plain": [
              "   Unnamed: 0 annotation_sequence  feat_A  feat_C  feat_D  feat_E  feat_F  \\\n",
              "0           0                   M   False   False   False   False   False   \n",
              "1           1                   G   False   False   False   False   False   \n",
              "2           2                   Q   False   False   False   False   False   \n",
              "3           3                   E   False   False   False    True   False   \n",
              "4           4                   P   False   False   False   False   False   \n",
              "\n",
              "   feat_G  feat_H  feat_I  ...    coord_X  coord_Y    coord_Z        entry  \\\n",
              "0   False   False   False  ... -26.499001   -4.742 -35.189999  GEMI5_HUMAN   \n",
              "1    True   False   False  ... -25.158001   -1.342 -34.104000  GEMI5_HUMAN   \n",
              "2   False   False   False  ... -21.926001   -1.641 -32.175999  GEMI5_HUMAN   \n",
              "3   False   False   False  ... -22.073999    0.654 -29.171000  GEMI5_HUMAN   \n",
              "4   False   False   False  ... -19.783001    2.670 -26.858999  GEMI5_HUMAN   \n",
              "\n",
              "   entry_index  y_Ligand  Polarity  Acidity  Hydro  Abbr  \n",
              "0            0     False         0        0     -1     M  \n",
              "1            1     False         0        0      0     G  \n",
              "2            2     False         1        0      1     Q  \n",
              "3            3     False         1        1      1     E  \n",
              "4            4     False         0        0      0     P  \n",
              "\n",
              "[5 rows x 55 columns]"
            ],
            "text/html": [
              "\n",
              "  <div id=\"df-4be3ef3a-8b14-45f2-81f0-3a818679b73e\">\n",
              "    <div class=\"colab-df-container\">\n",
              "      <div>\n",
              "<style scoped>\n",
              "    .dataframe tbody tr th:only-of-type {\n",
              "        vertical-align: middle;\n",
              "    }\n",
              "\n",
              "    .dataframe tbody tr th {\n",
              "        vertical-align: top;\n",
              "    }\n",
              "\n",
              "    .dataframe thead th {\n",
              "        text-align: right;\n",
              "    }\n",
              "</style>\n",
              "<table border=\"1\" class=\"dataframe\">\n",
              "  <thead>\n",
              "    <tr style=\"text-align: right;\">\n",
              "      <th></th>\n",
              "      <th>Unnamed: 0</th>\n",
              "      <th>annotation_sequence</th>\n",
              "      <th>feat_A</th>\n",
              "      <th>feat_C</th>\n",
              "      <th>feat_D</th>\n",
              "      <th>feat_E</th>\n",
              "      <th>feat_F</th>\n",
              "      <th>feat_G</th>\n",
              "      <th>feat_H</th>\n",
              "      <th>feat_I</th>\n",
              "      <th>...</th>\n",
              "      <th>coord_X</th>\n",
              "      <th>coord_Y</th>\n",
              "      <th>coord_Z</th>\n",
              "      <th>entry</th>\n",
              "      <th>entry_index</th>\n",
              "      <th>y_Ligand</th>\n",
              "      <th>Polarity</th>\n",
              "      <th>Acidity</th>\n",
              "      <th>Hydro</th>\n",
              "      <th>Abbr</th>\n",
              "    </tr>\n",
              "  </thead>\n",
              "  <tbody>\n",
              "    <tr>\n",
              "      <th>0</th>\n",
              "      <td>0</td>\n",
              "      <td>M</td>\n",
              "      <td>False</td>\n",
              "      <td>False</td>\n",
              "      <td>False</td>\n",
              "      <td>False</td>\n",
              "      <td>False</td>\n",
              "      <td>False</td>\n",
              "      <td>False</td>\n",
              "      <td>False</td>\n",
              "      <td>...</td>\n",
              "      <td>-26.499001</td>\n",
              "      <td>-4.742</td>\n",
              "      <td>-35.189999</td>\n",
              "      <td>GEMI5_HUMAN</td>\n",
              "      <td>0</td>\n",
              "      <td>False</td>\n",
              "      <td>0</td>\n",
              "      <td>0</td>\n",
              "      <td>-1</td>\n",
              "      <td>M</td>\n",
              "    </tr>\n",
              "    <tr>\n",
              "      <th>1</th>\n",
              "      <td>1</td>\n",
              "      <td>G</td>\n",
              "      <td>False</td>\n",
              "      <td>False</td>\n",
              "      <td>False</td>\n",
              "      <td>False</td>\n",
              "      <td>False</td>\n",
              "      <td>True</td>\n",
              "      <td>False</td>\n",
              "      <td>False</td>\n",
              "      <td>...</td>\n",
              "      <td>-25.158001</td>\n",
              "      <td>-1.342</td>\n",
              "      <td>-34.104000</td>\n",
              "      <td>GEMI5_HUMAN</td>\n",
              "      <td>1</td>\n",
              "      <td>False</td>\n",
              "      <td>0</td>\n",
              "      <td>0</td>\n",
              "      <td>0</td>\n",
              "      <td>G</td>\n",
              "    </tr>\n",
              "    <tr>\n",
              "      <th>2</th>\n",
              "      <td>2</td>\n",
              "      <td>Q</td>\n",
              "      <td>False</td>\n",
              "      <td>False</td>\n",
              "      <td>False</td>\n",
              "      <td>False</td>\n",
              "      <td>False</td>\n",
              "      <td>False</td>\n",
              "      <td>False</td>\n",
              "      <td>False</td>\n",
              "      <td>...</td>\n",
              "      <td>-21.926001</td>\n",
              "      <td>-1.641</td>\n",
              "      <td>-32.175999</td>\n",
              "      <td>GEMI5_HUMAN</td>\n",
              "      <td>2</td>\n",
              "      <td>False</td>\n",
              "      <td>1</td>\n",
              "      <td>0</td>\n",
              "      <td>1</td>\n",
              "      <td>Q</td>\n",
              "    </tr>\n",
              "    <tr>\n",
              "      <th>3</th>\n",
              "      <td>3</td>\n",
              "      <td>E</td>\n",
              "      <td>False</td>\n",
              "      <td>False</td>\n",
              "      <td>False</td>\n",
              "      <td>True</td>\n",
              "      <td>False</td>\n",
              "      <td>False</td>\n",
              "      <td>False</td>\n",
              "      <td>False</td>\n",
              "      <td>...</td>\n",
              "      <td>-22.073999</td>\n",
              "      <td>0.654</td>\n",
              "      <td>-29.171000</td>\n",
              "      <td>GEMI5_HUMAN</td>\n",
              "      <td>3</td>\n",
              "      <td>False</td>\n",
              "      <td>1</td>\n",
              "      <td>1</td>\n",
              "      <td>1</td>\n",
              "      <td>E</td>\n",
              "    </tr>\n",
              "    <tr>\n",
              "      <th>4</th>\n",
              "      <td>4</td>\n",
              "      <td>P</td>\n",
              "      <td>False</td>\n",
              "      <td>False</td>\n",
              "      <td>False</td>\n",
              "      <td>False</td>\n",
              "      <td>False</td>\n",
              "      <td>False</td>\n",
              "      <td>False</td>\n",
              "      <td>False</td>\n",
              "      <td>...</td>\n",
              "      <td>-19.783001</td>\n",
              "      <td>2.670</td>\n",
              "      <td>-26.858999</td>\n",
              "      <td>GEMI5_HUMAN</td>\n",
              "      <td>4</td>\n",
              "      <td>False</td>\n",
              "      <td>0</td>\n",
              "      <td>0</td>\n",
              "      <td>0</td>\n",
              "      <td>P</td>\n",
              "    </tr>\n",
              "  </tbody>\n",
              "</table>\n",
              "<p>5 rows × 55 columns</p>\n",
              "</div>\n",
              "      <button class=\"colab-df-convert\" onclick=\"convertToInteractive('df-4be3ef3a-8b14-45f2-81f0-3a818679b73e')\"\n",
              "              title=\"Convert this dataframe to an interactive table.\"\n",
              "              style=\"display:none;\">\n",
              "        \n",
              "  <svg xmlns=\"http://www.w3.org/2000/svg\" height=\"24px\"viewBox=\"0 0 24 24\"\n",
              "       width=\"24px\">\n",
              "    <path d=\"M0 0h24v24H0V0z\" fill=\"none\"/>\n",
              "    <path d=\"M18.56 5.44l.94 2.06.94-2.06 2.06-.94-2.06-.94-.94-2.06-.94 2.06-2.06.94zm-11 1L8.5 8.5l.94-2.06 2.06-.94-2.06-.94L8.5 2.5l-.94 2.06-2.06.94zm10 10l.94 2.06.94-2.06 2.06-.94-2.06-.94-.94-2.06-.94 2.06-2.06.94z\"/><path d=\"M17.41 7.96l-1.37-1.37c-.4-.4-.92-.59-1.43-.59-.52 0-1.04.2-1.43.59L10.3 9.45l-7.72 7.72c-.78.78-.78 2.05 0 2.83L4 21.41c.39.39.9.59 1.41.59.51 0 1.02-.2 1.41-.59l7.78-7.78 2.81-2.81c.8-.78.8-2.07 0-2.86zM5.41 20L4 18.59l7.72-7.72 1.47 1.35L5.41 20z\"/>\n",
              "  </svg>\n",
              "      </button>\n",
              "      \n",
              "  <style>\n",
              "    .colab-df-container {\n",
              "      display:flex;\n",
              "      flex-wrap:wrap;\n",
              "      gap: 12px;\n",
              "    }\n",
              "\n",
              "    .colab-df-convert {\n",
              "      background-color: #E8F0FE;\n",
              "      border: none;\n",
              "      border-radius: 50%;\n",
              "      cursor: pointer;\n",
              "      display: none;\n",
              "      fill: #1967D2;\n",
              "      height: 32px;\n",
              "      padding: 0 0 0 0;\n",
              "      width: 32px;\n",
              "    }\n",
              "\n",
              "    .colab-df-convert:hover {\n",
              "      background-color: #E2EBFA;\n",
              "      box-shadow: 0px 1px 2px rgba(60, 64, 67, 0.3), 0px 1px 3px 1px rgba(60, 64, 67, 0.15);\n",
              "      fill: #174EA6;\n",
              "    }\n",
              "\n",
              "    [theme=dark] .colab-df-convert {\n",
              "      background-color: #3B4455;\n",
              "      fill: #D2E3FC;\n",
              "    }\n",
              "\n",
              "    [theme=dark] .colab-df-convert:hover {\n",
              "      background-color: #434B5C;\n",
              "      box-shadow: 0px 1px 3px 1px rgba(0, 0, 0, 0.15);\n",
              "      filter: drop-shadow(0px 1px 2px rgba(0, 0, 0, 0.3));\n",
              "      fill: #FFFFFF;\n",
              "    }\n",
              "  </style>\n",
              "\n",
              "      <script>\n",
              "        const buttonEl =\n",
              "          document.querySelector('#df-4be3ef3a-8b14-45f2-81f0-3a818679b73e button.colab-df-convert');\n",
              "        buttonEl.style.display =\n",
              "          google.colab.kernel.accessAllowed ? 'block' : 'none';\n",
              "\n",
              "        async function convertToInteractive(key) {\n",
              "          const element = document.querySelector('#df-4be3ef3a-8b14-45f2-81f0-3a818679b73e');\n",
              "          const dataTable =\n",
              "            await google.colab.kernel.invokeFunction('convertToInteractive',\n",
              "                                                     [key], {});\n",
              "          if (!dataTable) return;\n",
              "\n",
              "          const docLinkHtml = 'Like what you see? Visit the ' +\n",
              "            '<a target=\"_blank\" href=https://colab.research.google.com/notebooks/data_table.ipynb>data table notebook</a>'\n",
              "            + ' to learn more about interactive tables.';\n",
              "          element.innerHTML = '';\n",
              "          dataTable['output_type'] = 'display_data';\n",
              "          await google.colab.output.renderOutput(dataTable, element);\n",
              "          const docLink = document.createElement('div');\n",
              "          docLink.innerHTML = docLinkHtml;\n",
              "          element.appendChild(docLink);\n",
              "        }\n",
              "      </script>\n",
              "    </div>\n",
              "  </div>\n",
              "  "
            ]
          },
          "metadata": {},
          "execution_count": 12
        }
      ]
    },
    {
      "cell_type": "code",
      "source": [
        "train_ds.info()"
      ],
      "metadata": {
        "colab": {
          "base_uri": "https://localhost:8080/"
        },
        "id": "iLzBHK01pyHe",
        "outputId": "a1d222b4-cddb-421d-b590-e78abca6dbca"
      },
      "execution_count": null,
      "outputs": [
        {
          "output_type": "stream",
          "name": "stdout",
          "text": [
            "<class 'pandas.core.frame.DataFrame'>\n",
            "Int64Index: 497166 entries, 0 to 497165\n",
            "Data columns (total 55 columns):\n",
            " #   Column               Non-Null Count   Dtype  \n",
            "---  ------               --------------   -----  \n",
            " 0   Unnamed: 0           497166 non-null  int64  \n",
            " 1   annotation_sequence  497166 non-null  object \n",
            " 2   feat_A               497166 non-null  bool   \n",
            " 3   feat_C               497166 non-null  bool   \n",
            " 4   feat_D               497166 non-null  bool   \n",
            " 5   feat_E               497166 non-null  bool   \n",
            " 6   feat_F               497166 non-null  bool   \n",
            " 7   feat_G               497166 non-null  bool   \n",
            " 8   feat_H               497166 non-null  bool   \n",
            " 9   feat_I               497166 non-null  bool   \n",
            " 10  feat_K               497166 non-null  bool   \n",
            " 11  feat_L               497166 non-null  bool   \n",
            " 12  feat_M               497166 non-null  bool   \n",
            " 13  feat_N               497166 non-null  bool   \n",
            " 14  feat_P               497166 non-null  bool   \n",
            " 15  feat_Q               497166 non-null  bool   \n",
            " 16  feat_R               497166 non-null  bool   \n",
            " 17  feat_S               497166 non-null  bool   \n",
            " 18  feat_T               497166 non-null  bool   \n",
            " 19  feat_V               497166 non-null  bool   \n",
            " 20  feat_W               497166 non-null  bool   \n",
            " 21  feat_Y               497166 non-null  bool   \n",
            " 22  annotation_atomrec   484477 non-null  object \n",
            " 23  feat_PHI             497166 non-null  float64\n",
            " 24  feat_PSI             497166 non-null  float64\n",
            " 25  feat_TAU             497166 non-null  float64\n",
            " 26  feat_THETA           497166 non-null  float64\n",
            " 27  feat_BBSASA          497166 non-null  float64\n",
            " 28  feat_SCSASA          497166 non-null  float64\n",
            " 29  feat_pLDDT           497166 non-null  float64\n",
            " 30  feat_DSSP_H          497166 non-null  bool   \n",
            " 31  feat_DSSP_B          497166 non-null  bool   \n",
            " 32  feat_DSSP_E          497166 non-null  bool   \n",
            " 33  feat_DSSP_G          497166 non-null  bool   \n",
            " 34  feat_DSSP_I          497166 non-null  bool   \n",
            " 35  feat_DSSP_T          497166 non-null  bool   \n",
            " 36  feat_DSSP_S          497166 non-null  bool   \n",
            " 37  feat_DSSP_6          497166 non-null  int64  \n",
            " 38  feat_DSSP_7          497166 non-null  float64\n",
            " 39  feat_DSSP_8          497166 non-null  int64  \n",
            " 40  feat_DSSP_9          497166 non-null  float64\n",
            " 41  feat_DSSP_10         497166 non-null  int64  \n",
            " 42  feat_DSSP_11         497166 non-null  float64\n",
            " 43  feat_DSSP_12         497166 non-null  int64  \n",
            " 44  feat_DSSP_13         497166 non-null  float64\n",
            " 45  coord_X              497166 non-null  float64\n",
            " 46  coord_Y              497166 non-null  float64\n",
            " 47  coord_Z              497166 non-null  float64\n",
            " 48  entry                497166 non-null  object \n",
            " 49  entry_index          497166 non-null  int64  \n",
            " 50  y_Ligand             497166 non-null  bool   \n",
            " 51  Polarity             497166 non-null  int64  \n",
            " 52  Acidity              497166 non-null  int64  \n",
            " 53  Hydro                497166 non-null  int64  \n",
            " 54  Abbr                 497166 non-null  object \n",
            "dtypes: bool(28), float64(14), int64(9), object(4)\n",
            "memory usage: 119.5+ MB\n"
          ]
        }
      ]
    },
    {
      "cell_type": "markdown",
      "source": [
        "#Data Preprocessing for NN"
      ],
      "metadata": {
        "id": "41LTlmF0cPZK"
      }
    },
    {
      "cell_type": "markdown",
      "source": [
        "1. Transform boolean variables to 0 and 1.\n",
        "2. Drop insignificant variables and categorical variables\n"
      ],
      "metadata": {
        "id": "xNIeqsDfiKP6"
      }
    },
    {
      "cell_type": "code",
      "execution_count": null,
      "metadata": {
        "id": "ctlZM7sN5Pd0"
      },
      "outputs": [],
      "source": [
        "# Change boolean variables feat_[letter], feat_DSSP_[letter], y_Ligand into 0 and 1\n",
        "# Neural networks need numerical inputs\n",
        "train_ds.feat_A= train_ds.feat_A.astype(int)\n",
        "train_ds.feat_C= train_ds.feat_C.astype(int)\n",
        "train_ds.feat_D= train_ds.feat_D.astype(int)\n",
        "train_ds.feat_E= train_ds.feat_E.astype(int)\n",
        "train_ds.feat_F= train_ds.feat_F.astype(int)\n",
        "train_ds.feat_G= train_ds.feat_G.astype(int)\n",
        "train_ds.feat_H= train_ds.feat_H.astype(int)\n",
        "train_ds.feat_I= train_ds.feat_I.astype(int)\n",
        "train_ds.feat_K= train_ds.feat_K.astype(int)\n",
        "train_ds.feat_L= train_ds.feat_L.astype(int)\n",
        "train_ds.feat_M= train_ds.feat_M.astype(int)\n",
        "train_ds.feat_N= train_ds.feat_N.astype(int)\n",
        "train_ds.feat_P= train_ds.feat_P.astype(int)\n",
        "train_ds.feat_Q= train_ds.feat_Q.astype(int)\n",
        "train_ds.feat_R= train_ds.feat_R.astype(int)\n",
        "train_ds.feat_S= train_ds.feat_S.astype(int)\n",
        "train_ds.feat_T= train_ds.feat_T.astype(int)\n",
        "train_ds.feat_V= train_ds.feat_V.astype(int)\n",
        "train_ds.feat_W= train_ds.feat_W.astype(int)\n",
        "train_ds.feat_Y= train_ds.feat_Y.astype(int)\n",
        "train_ds.feat_DSSP_H= train_ds.feat_DSSP_H.astype(int)\n",
        "train_ds.feat_DSSP_B= train_ds.feat_DSSP_B.astype(int)\n",
        "train_ds.feat_DSSP_E= train_ds.feat_DSSP_E.astype(int)\n",
        "train_ds.feat_DSSP_G= train_ds.feat_DSSP_G.astype(int)\n",
        "train_ds.feat_DSSP_I= train_ds.feat_DSSP_I.astype(int)\n",
        "train_ds.feat_DSSP_T= train_ds.feat_DSSP_T.astype(int)\n",
        "train_ds.feat_DSSP_S= train_ds.feat_DSSP_S.astype(int)\n",
        "train_ds.y_Ligand= train_ds.y_Ligand.astype(int)"
      ]
    },
    {
      "cell_type": "code",
      "source": [
        "test_ds.feat_A= test_ds.feat_A.astype(int)\n",
        "test_ds.feat_C= test_ds.feat_C.astype(int)\n",
        "test_ds.feat_D= test_ds.feat_D.astype(int)\n",
        "test_ds.feat_E= test_ds.feat_E.astype(int)\n",
        "test_ds.feat_F= test_ds.feat_F.astype(int)\n",
        "test_ds.feat_G= test_ds.feat_G.astype(int)\n",
        "test_ds.feat_H= test_ds.feat_H.astype(int)\n",
        "test_ds.feat_I= test_ds.feat_I.astype(int)\n",
        "test_ds.feat_K= test_ds.feat_K.astype(int)\n",
        "test_ds.feat_L= test_ds.feat_L.astype(int)\n",
        "test_ds.feat_M= test_ds.feat_M.astype(int)\n",
        "test_ds.feat_N= test_ds.feat_N.astype(int)\n",
        "test_ds.feat_P= test_ds.feat_P.astype(int)\n",
        "test_ds.feat_Q= test_ds.feat_Q.astype(int)\n",
        "test_ds.feat_R= test_ds.feat_R.astype(int)\n",
        "test_ds.feat_S= test_ds.feat_S.astype(int)\n",
        "test_ds.feat_T= test_ds.feat_T.astype(int)\n",
        "test_ds.feat_V= test_ds.feat_V.astype(int)\n",
        "test_ds.feat_W= test_ds.feat_W.astype(int)\n",
        "test_ds.feat_Y= test_ds.feat_Y.astype(int)\n",
        "test_ds.feat_DSSP_H= test_ds.feat_DSSP_H.astype(int)\n",
        "test_ds.feat_DSSP_B= test_ds.feat_DSSP_B.astype(int)\n",
        "test_ds.feat_DSSP_E= test_ds.feat_DSSP_E.astype(int)\n",
        "test_ds.feat_DSSP_G= test_ds.feat_DSSP_G.astype(int)\n",
        "test_ds.feat_DSSP_I= test_ds.feat_DSSP_I.astype(int)\n",
        "test_ds.feat_DSSP_T= test_ds.feat_DSSP_T.astype(int)\n",
        "test_ds.feat_DSSP_S= test_ds.feat_DSSP_S.astype(int)"
      ],
      "metadata": {
        "id": "fkPrYoOoxjSx"
      },
      "execution_count": null,
      "outputs": []
    },
    {
      "cell_type": "code",
      "source": [
        "train_ds.drop([\"feat_pLDDT\",\"annotation_atomrec\",\"Unnamed: 0\" ,\"entry_index\",  \"Abbr\",'coord_X', 'coord_Y', 'coord_Z',\"feat_PHI\",\"feat_PSI\",\"feat_TAU\",\"feat_DSSP_7\",\"feat_DSSP_9\",'annotation_sequence'], axis = 1, inplace =True)\n",
        "test_ds.drop([\"feat_pLDDT\",\"annotation_atomrec\",\"Unnamed: 0\" ,\"entry_index\",  \"Abbr\",'coord_X', 'coord_Y', 'coord_Z',\"feat_PHI\",\"feat_PSI\",\"feat_TAU\",\"feat_DSSP_7\",\"feat_DSSP_9\",'annotation_sequence'], axis = 1, inplace =True)"
      ],
      "metadata": {
        "id": "8UqfjaMxFo53"
      },
      "execution_count": null,
      "outputs": []
    },
    {
      "cell_type": "code",
      "source": [
        "train_ds.info()"
      ],
      "metadata": {
        "colab": {
          "base_uri": "https://localhost:8080/"
        },
        "id": "7mcVBf-UGCnn",
        "outputId": "c6556c71-bdc1-497f-a181-182ecbf7bbbb"
      },
      "execution_count": null,
      "outputs": [
        {
          "output_type": "stream",
          "name": "stdout",
          "text": [
            "<class 'pandas.core.frame.DataFrame'>\n",
            "Int64Index: 497166 entries, 0 to 497165\n",
            "Data columns (total 41 columns):\n",
            " #   Column        Non-Null Count   Dtype  \n",
            "---  ------        --------------   -----  \n",
            " 0   feat_A        497166 non-null  int64  \n",
            " 1   feat_C        497166 non-null  int64  \n",
            " 2   feat_D        497166 non-null  int64  \n",
            " 3   feat_E        497166 non-null  int64  \n",
            " 4   feat_F        497166 non-null  int64  \n",
            " 5   feat_G        497166 non-null  int64  \n",
            " 6   feat_H        497166 non-null  int64  \n",
            " 7   feat_I        497166 non-null  int64  \n",
            " 8   feat_K        497166 non-null  int64  \n",
            " 9   feat_L        497166 non-null  int64  \n",
            " 10  feat_M        497166 non-null  int64  \n",
            " 11  feat_N        497166 non-null  int64  \n",
            " 12  feat_P        497166 non-null  int64  \n",
            " 13  feat_Q        497166 non-null  int64  \n",
            " 14  feat_R        497166 non-null  int64  \n",
            " 15  feat_S        497166 non-null  int64  \n",
            " 16  feat_T        497166 non-null  int64  \n",
            " 17  feat_V        497166 non-null  int64  \n",
            " 18  feat_W        497166 non-null  int64  \n",
            " 19  feat_Y        497166 non-null  int64  \n",
            " 20  feat_THETA    497166 non-null  float64\n",
            " 21  feat_BBSASA   497166 non-null  float64\n",
            " 22  feat_SCSASA   497166 non-null  float64\n",
            " 23  feat_DSSP_H   497166 non-null  int64  \n",
            " 24  feat_DSSP_B   497166 non-null  int64  \n",
            " 25  feat_DSSP_E   497166 non-null  int64  \n",
            " 26  feat_DSSP_G   497166 non-null  int64  \n",
            " 27  feat_DSSP_I   497166 non-null  int64  \n",
            " 28  feat_DSSP_T   497166 non-null  int64  \n",
            " 29  feat_DSSP_S   497166 non-null  int64  \n",
            " 30  feat_DSSP_6   497166 non-null  int64  \n",
            " 31  feat_DSSP_8   497166 non-null  int64  \n",
            " 32  feat_DSSP_10  497166 non-null  int64  \n",
            " 33  feat_DSSP_11  497166 non-null  float64\n",
            " 34  feat_DSSP_12  497166 non-null  int64  \n",
            " 35  feat_DSSP_13  497166 non-null  float64\n",
            " 36  entry         497166 non-null  object \n",
            " 37  y_Ligand      497166 non-null  int64  \n",
            " 38  Polarity      497166 non-null  int64  \n",
            " 39  Acidity       497166 non-null  int64  \n",
            " 40  Hydro         497166 non-null  int64  \n",
            "dtypes: float64(5), int64(35), object(1)\n",
            "memory usage: 159.3+ MB\n"
          ]
        }
      ]
    },
    {
      "cell_type": "markdown",
      "source": [
        "One-hot-encoding"
      ],
      "metadata": {
        "id": "8vtsdnkmCasi"
      }
    },
    {
      "cell_type": "code",
      "source": [
        "for col in ['entry']:#,'annotation_sequence']:\n",
        "  one_hot = pd.get_dummies(train_ds[col])\n",
        "  # Drop column prefix as it is now encoded\n",
        "  train_ds = train_ds.drop(col,axis = 1)\n",
        "  # Join the encoded df\n",
        "  train_ds = train_ds.join(one_hot)"
      ],
      "metadata": {
        "id": "oOCLLw9kCYKI"
      },
      "execution_count": null,
      "outputs": []
    },
    {
      "cell_type": "code",
      "source": [
        "for col in ['entry']:#,'annotation_sequence']:\n",
        "  one_hot = pd.get_dummies(test_ds[col])\n",
        "  # Drop column prefix as it is now encoded\n",
        "  test_ds = test_ds.drop(col,axis = 1)\n",
        "  # Join the encoded df\n",
        "  test_ds = test_ds.join(one_hot)"
      ],
      "metadata": {
        "id": "cZR-wWpFMoNd"
      },
      "execution_count": null,
      "outputs": []
    },
    {
      "cell_type": "code",
      "execution_count": null,
      "metadata": {
        "colab": {
          "base_uri": "https://localhost:8080/"
        },
        "id": "n1TSJZMzomYN",
        "outputId": "34be7279-f5ed-4646-da40-35270b98d6bd"
      },
      "outputs": [
        {
          "output_type": "stream",
          "name": "stdout",
          "text": [
            "<class 'pandas.core.frame.DataFrame'>\n",
            "Int64Index: 497166 entries, 0 to 497165\n",
            "Columns: 763 entries, feat_A to ZN224_HUMAN\n",
            "dtypes: float64(5), int64(35), uint8(723)\n",
            "memory usage: 514.4 MB\n"
          ]
        }
      ],
      "source": [
        "train_ds.info()"
      ]
    },
    {
      "cell_type": "code",
      "source": [
        "train_ds.head()"
      ],
      "metadata": {
        "colab": {
          "base_uri": "https://localhost:8080/",
          "height": 236
        },
        "id": "sDQHUK7LGrY7",
        "outputId": "ee1e4ba0-41da-4834-fff9-4ce2277c9f49"
      },
      "execution_count": null,
      "outputs": [
        {
          "output_type": "execute_result",
          "data": {
            "text/plain": [
              "   feat_A  feat_C  feat_D  feat_E  feat_F  feat_G  feat_H  feat_I  feat_K  \\\n",
              "0       0       0       0       0       0       0       0       0       0   \n",
              "1       0       0       0       0       0       1       0       0       0   \n",
              "2       0       0       0       0       0       0       0       0       0   \n",
              "3       0       0       0       1       0       0       0       0       0   \n",
              "4       0       0       0       0       0       0       0       0       0   \n",
              "\n",
              "   feat_L  ...  VGFR1_HUMAN  VGFR2_HUMAN  VRK2_HUMAN  WEE1_HUMAN  WNK1_HUMAN  \\\n",
              "0       0  ...            0            0           0           0           0   \n",
              "1       0  ...            0            0           0           0           0   \n",
              "2       0  ...            0            0           0           0           0   \n",
              "3       0  ...            0            0           0           0           0   \n",
              "4       0  ...            0            0           0           0           0   \n",
              "\n",
              "   WNK3_HUMAN  WRN_HUMAN  XPO1_HUMAN  ZGPAT_HUMAN  ZN224_HUMAN  \n",
              "0           0          0           0            0            0  \n",
              "1           0          0           0            0            0  \n",
              "2           0          0           0            0            0  \n",
              "3           0          0           0            0            0  \n",
              "4           0          0           0            0            0  \n",
              "\n",
              "[5 rows x 763 columns]"
            ],
            "text/html": [
              "\n",
              "  <div id=\"df-9d7fd9d8-7be9-4fea-8b4b-c27ea7979b48\">\n",
              "    <div class=\"colab-df-container\">\n",
              "      <div>\n",
              "<style scoped>\n",
              "    .dataframe tbody tr th:only-of-type {\n",
              "        vertical-align: middle;\n",
              "    }\n",
              "\n",
              "    .dataframe tbody tr th {\n",
              "        vertical-align: top;\n",
              "    }\n",
              "\n",
              "    .dataframe thead th {\n",
              "        text-align: right;\n",
              "    }\n",
              "</style>\n",
              "<table border=\"1\" class=\"dataframe\">\n",
              "  <thead>\n",
              "    <tr style=\"text-align: right;\">\n",
              "      <th></th>\n",
              "      <th>feat_A</th>\n",
              "      <th>feat_C</th>\n",
              "      <th>feat_D</th>\n",
              "      <th>feat_E</th>\n",
              "      <th>feat_F</th>\n",
              "      <th>feat_G</th>\n",
              "      <th>feat_H</th>\n",
              "      <th>feat_I</th>\n",
              "      <th>feat_K</th>\n",
              "      <th>feat_L</th>\n",
              "      <th>...</th>\n",
              "      <th>VGFR1_HUMAN</th>\n",
              "      <th>VGFR2_HUMAN</th>\n",
              "      <th>VRK2_HUMAN</th>\n",
              "      <th>WEE1_HUMAN</th>\n",
              "      <th>WNK1_HUMAN</th>\n",
              "      <th>WNK3_HUMAN</th>\n",
              "      <th>WRN_HUMAN</th>\n",
              "      <th>XPO1_HUMAN</th>\n",
              "      <th>ZGPAT_HUMAN</th>\n",
              "      <th>ZN224_HUMAN</th>\n",
              "    </tr>\n",
              "  </thead>\n",
              "  <tbody>\n",
              "    <tr>\n",
              "      <th>0</th>\n",
              "      <td>0</td>\n",
              "      <td>0</td>\n",
              "      <td>0</td>\n",
              "      <td>0</td>\n",
              "      <td>0</td>\n",
              "      <td>0</td>\n",
              "      <td>0</td>\n",
              "      <td>0</td>\n",
              "      <td>0</td>\n",
              "      <td>0</td>\n",
              "      <td>...</td>\n",
              "      <td>0</td>\n",
              "      <td>0</td>\n",
              "      <td>0</td>\n",
              "      <td>0</td>\n",
              "      <td>0</td>\n",
              "      <td>0</td>\n",
              "      <td>0</td>\n",
              "      <td>0</td>\n",
              "      <td>0</td>\n",
              "      <td>0</td>\n",
              "    </tr>\n",
              "    <tr>\n",
              "      <th>1</th>\n",
              "      <td>0</td>\n",
              "      <td>0</td>\n",
              "      <td>0</td>\n",
              "      <td>0</td>\n",
              "      <td>0</td>\n",
              "      <td>1</td>\n",
              "      <td>0</td>\n",
              "      <td>0</td>\n",
              "      <td>0</td>\n",
              "      <td>0</td>\n",
              "      <td>...</td>\n",
              "      <td>0</td>\n",
              "      <td>0</td>\n",
              "      <td>0</td>\n",
              "      <td>0</td>\n",
              "      <td>0</td>\n",
              "      <td>0</td>\n",
              "      <td>0</td>\n",
              "      <td>0</td>\n",
              "      <td>0</td>\n",
              "      <td>0</td>\n",
              "    </tr>\n",
              "    <tr>\n",
              "      <th>2</th>\n",
              "      <td>0</td>\n",
              "      <td>0</td>\n",
              "      <td>0</td>\n",
              "      <td>0</td>\n",
              "      <td>0</td>\n",
              "      <td>0</td>\n",
              "      <td>0</td>\n",
              "      <td>0</td>\n",
              "      <td>0</td>\n",
              "      <td>0</td>\n",
              "      <td>...</td>\n",
              "      <td>0</td>\n",
              "      <td>0</td>\n",
              "      <td>0</td>\n",
              "      <td>0</td>\n",
              "      <td>0</td>\n",
              "      <td>0</td>\n",
              "      <td>0</td>\n",
              "      <td>0</td>\n",
              "      <td>0</td>\n",
              "      <td>0</td>\n",
              "    </tr>\n",
              "    <tr>\n",
              "      <th>3</th>\n",
              "      <td>0</td>\n",
              "      <td>0</td>\n",
              "      <td>0</td>\n",
              "      <td>1</td>\n",
              "      <td>0</td>\n",
              "      <td>0</td>\n",
              "      <td>0</td>\n",
              "      <td>0</td>\n",
              "      <td>0</td>\n",
              "      <td>0</td>\n",
              "      <td>...</td>\n",
              "      <td>0</td>\n",
              "      <td>0</td>\n",
              "      <td>0</td>\n",
              "      <td>0</td>\n",
              "      <td>0</td>\n",
              "      <td>0</td>\n",
              "      <td>0</td>\n",
              "      <td>0</td>\n",
              "      <td>0</td>\n",
              "      <td>0</td>\n",
              "    </tr>\n",
              "    <tr>\n",
              "      <th>4</th>\n",
              "      <td>0</td>\n",
              "      <td>0</td>\n",
              "      <td>0</td>\n",
              "      <td>0</td>\n",
              "      <td>0</td>\n",
              "      <td>0</td>\n",
              "      <td>0</td>\n",
              "      <td>0</td>\n",
              "      <td>0</td>\n",
              "      <td>0</td>\n",
              "      <td>...</td>\n",
              "      <td>0</td>\n",
              "      <td>0</td>\n",
              "      <td>0</td>\n",
              "      <td>0</td>\n",
              "      <td>0</td>\n",
              "      <td>0</td>\n",
              "      <td>0</td>\n",
              "      <td>0</td>\n",
              "      <td>0</td>\n",
              "      <td>0</td>\n",
              "    </tr>\n",
              "  </tbody>\n",
              "</table>\n",
              "<p>5 rows × 763 columns</p>\n",
              "</div>\n",
              "      <button class=\"colab-df-convert\" onclick=\"convertToInteractive('df-9d7fd9d8-7be9-4fea-8b4b-c27ea7979b48')\"\n",
              "              title=\"Convert this dataframe to an interactive table.\"\n",
              "              style=\"display:none;\">\n",
              "        \n",
              "  <svg xmlns=\"http://www.w3.org/2000/svg\" height=\"24px\"viewBox=\"0 0 24 24\"\n",
              "       width=\"24px\">\n",
              "    <path d=\"M0 0h24v24H0V0z\" fill=\"none\"/>\n",
              "    <path d=\"M18.56 5.44l.94 2.06.94-2.06 2.06-.94-2.06-.94-.94-2.06-.94 2.06-2.06.94zm-11 1L8.5 8.5l.94-2.06 2.06-.94-2.06-.94L8.5 2.5l-.94 2.06-2.06.94zm10 10l.94 2.06.94-2.06 2.06-.94-2.06-.94-.94-2.06-.94 2.06-2.06.94z\"/><path d=\"M17.41 7.96l-1.37-1.37c-.4-.4-.92-.59-1.43-.59-.52 0-1.04.2-1.43.59L10.3 9.45l-7.72 7.72c-.78.78-.78 2.05 0 2.83L4 21.41c.39.39.9.59 1.41.59.51 0 1.02-.2 1.41-.59l7.78-7.78 2.81-2.81c.8-.78.8-2.07 0-2.86zM5.41 20L4 18.59l7.72-7.72 1.47 1.35L5.41 20z\"/>\n",
              "  </svg>\n",
              "      </button>\n",
              "      \n",
              "  <style>\n",
              "    .colab-df-container {\n",
              "      display:flex;\n",
              "      flex-wrap:wrap;\n",
              "      gap: 12px;\n",
              "    }\n",
              "\n",
              "    .colab-df-convert {\n",
              "      background-color: #E8F0FE;\n",
              "      border: none;\n",
              "      border-radius: 50%;\n",
              "      cursor: pointer;\n",
              "      display: none;\n",
              "      fill: #1967D2;\n",
              "      height: 32px;\n",
              "      padding: 0 0 0 0;\n",
              "      width: 32px;\n",
              "    }\n",
              "\n",
              "    .colab-df-convert:hover {\n",
              "      background-color: #E2EBFA;\n",
              "      box-shadow: 0px 1px 2px rgba(60, 64, 67, 0.3), 0px 1px 3px 1px rgba(60, 64, 67, 0.15);\n",
              "      fill: #174EA6;\n",
              "    }\n",
              "\n",
              "    [theme=dark] .colab-df-convert {\n",
              "      background-color: #3B4455;\n",
              "      fill: #D2E3FC;\n",
              "    }\n",
              "\n",
              "    [theme=dark] .colab-df-convert:hover {\n",
              "      background-color: #434B5C;\n",
              "      box-shadow: 0px 1px 3px 1px rgba(0, 0, 0, 0.15);\n",
              "      filter: drop-shadow(0px 1px 2px rgba(0, 0, 0, 0.3));\n",
              "      fill: #FFFFFF;\n",
              "    }\n",
              "  </style>\n",
              "\n",
              "      <script>\n",
              "        const buttonEl =\n",
              "          document.querySelector('#df-9d7fd9d8-7be9-4fea-8b4b-c27ea7979b48 button.colab-df-convert');\n",
              "        buttonEl.style.display =\n",
              "          google.colab.kernel.accessAllowed ? 'block' : 'none';\n",
              "\n",
              "        async function convertToInteractive(key) {\n",
              "          const element = document.querySelector('#df-9d7fd9d8-7be9-4fea-8b4b-c27ea7979b48');\n",
              "          const dataTable =\n",
              "            await google.colab.kernel.invokeFunction('convertToInteractive',\n",
              "                                                     [key], {});\n",
              "          if (!dataTable) return;\n",
              "\n",
              "          const docLinkHtml = 'Like what you see? Visit the ' +\n",
              "            '<a target=\"_blank\" href=https://colab.research.google.com/notebooks/data_table.ipynb>data table notebook</a>'\n",
              "            + ' to learn more about interactive tables.';\n",
              "          element.innerHTML = '';\n",
              "          dataTable['output_type'] = 'display_data';\n",
              "          await google.colab.output.renderOutput(dataTable, element);\n",
              "          const docLink = document.createElement('div');\n",
              "          docLink.innerHTML = docLinkHtml;\n",
              "          element.appendChild(docLink);\n",
              "        }\n",
              "      </script>\n",
              "    </div>\n",
              "  </div>\n",
              "  "
            ]
          },
          "metadata": {},
          "execution_count": 21
        }
      ]
    },
    {
      "cell_type": "markdown",
      "metadata": {
        "id": "eIhjc1r5tdgo"
      },
      "source": [
        "# Split the data into train/test splits."
      ]
    },
    {
      "cell_type": "code",
      "execution_count": null,
      "metadata": {
        "id": "-v3MUnictpeN"
      },
      "outputs": [],
      "source": [
        "# Split the train data into 70% train and 30% test \n",
        "train_dataset, temp_test_dataset =  train_test_split(train_ds, test_size=0.3)\n",
        "# Further Split the test data into half validation data and half test data\n",
        "valid_dataset,test_dataset = train_test_split(temp_test_dataset,test_size=0.5)"
      ]
    },
    {
      "cell_type": "code",
      "execution_count": null,
      "metadata": {
        "colab": {
          "base_uri": "https://localhost:8080/"
        },
        "id": "jr1a9iaYtxl9",
        "outputId": "a0a84d8b-f78d-4b49-8d92-11c3ce39972c"
      },
      "outputs": [
        {
          "output_type": "stream",
          "name": "stdout",
          "text": [
            "Display the datatype of the test_dataset: <class 'pandas.core.frame.DataFrame'>\n",
            " Train dataset      : (348016, 763)\n",
            " Test dataset       : (74575, 763)\n",
            " Validation dataset : (74575, 763)\n"
          ]
        }
      ],
      "source": [
        "print(f\"Display the datatype of the test_dataset: {type(test_dataset)}\")\n",
        "print(f\" Train dataset      : {train_dataset.shape}\")\n",
        "print(f\" Test dataset       : {test_dataset.shape}\")\n",
        "print(f\" Validation dataset : {valid_dataset.shape}\")"
      ]
    },
    {
      "cell_type": "code",
      "execution_count": null,
      "metadata": {
        "id": "gylbAIwhHIWP"
      },
      "outputs": [],
      "source": [
        "# The label is \"y_Ligand\" of the protein. We will remove them from each dataset split (train, test, validate) and save them into new variables.\n",
        "# Note: we maintain the order of the labels and data from now on to make sure each example/row is associated with the right label.\n",
        "train_labels = train_dataset.pop('y_Ligand')\n",
        "test_labels = test_dataset.pop('y_Ligand')\n",
        "valid_labels = valid_dataset.pop('y_Ligand')"
      ]
    },
    {
      "cell_type": "markdown",
      "source": [
        "# Normalize Datasets (after splits!)"
      ],
      "metadata": {
        "id": "hsv59xhFr1y5"
      }
    },
    {
      "cell_type": "code",
      "execution_count": null,
      "metadata": {
        "colab": {
          "base_uri": "https://localhost:8080/",
          "height": 424
        },
        "id": "O4Ne0u1MKdJ8",
        "outputId": "50931f05-ad6c-4bde-8f2c-dbeba066619b"
      },
      "outputs": [
        {
          "output_type": "execute_result",
          "data": {
            "text/plain": [
              "                count      mean       std  min  25%  50%  75%  max\n",
              "feat_A       348016.0  0.068322  0.252297  0.0  0.0  0.0  0.0  1.0\n",
              "feat_C       348016.0  0.020795  0.142698  0.0  0.0  0.0  0.0  1.0\n",
              "feat_D       348016.0  0.051251  0.220509  0.0  0.0  0.0  0.0  1.0\n",
              "feat_E       348016.0  0.073359  0.260725  0.0  0.0  0.0  0.0  1.0\n",
              "feat_F       348016.0  0.036826  0.188334  0.0  0.0  0.0  0.0  1.0\n",
              "...               ...       ...       ...  ...  ...  ...  ...  ...\n",
              "WNK3_HUMAN   348016.0  0.003592  0.059824  0.0  0.0  0.0  0.0  1.0\n",
              "WRN_HUMAN    348016.0  0.002945  0.054190  0.0  0.0  0.0  0.0  1.0\n",
              "XPO1_HUMAN   348016.0  0.002135  0.046156  0.0  0.0  0.0  0.0  1.0\n",
              "ZGPAT_HUMAN  348016.0  0.001080  0.032852  0.0  0.0  0.0  0.0  1.0\n",
              "ZN224_HUMAN  348016.0  0.001434  0.037839  0.0  0.0  0.0  0.0  1.0\n",
              "\n",
              "[762 rows x 8 columns]"
            ],
            "text/html": [
              "\n",
              "  <div id=\"df-d50a1a1b-77c4-432e-9e5a-2937a0da3656\">\n",
              "    <div class=\"colab-df-container\">\n",
              "      <div>\n",
              "<style scoped>\n",
              "    .dataframe tbody tr th:only-of-type {\n",
              "        vertical-align: middle;\n",
              "    }\n",
              "\n",
              "    .dataframe tbody tr th {\n",
              "        vertical-align: top;\n",
              "    }\n",
              "\n",
              "    .dataframe thead th {\n",
              "        text-align: right;\n",
              "    }\n",
              "</style>\n",
              "<table border=\"1\" class=\"dataframe\">\n",
              "  <thead>\n",
              "    <tr style=\"text-align: right;\">\n",
              "      <th></th>\n",
              "      <th>count</th>\n",
              "      <th>mean</th>\n",
              "      <th>std</th>\n",
              "      <th>min</th>\n",
              "      <th>25%</th>\n",
              "      <th>50%</th>\n",
              "      <th>75%</th>\n",
              "      <th>max</th>\n",
              "    </tr>\n",
              "  </thead>\n",
              "  <tbody>\n",
              "    <tr>\n",
              "      <th>feat_A</th>\n",
              "      <td>348016.0</td>\n",
              "      <td>0.068322</td>\n",
              "      <td>0.252297</td>\n",
              "      <td>0.0</td>\n",
              "      <td>0.0</td>\n",
              "      <td>0.0</td>\n",
              "      <td>0.0</td>\n",
              "      <td>1.0</td>\n",
              "    </tr>\n",
              "    <tr>\n",
              "      <th>feat_C</th>\n",
              "      <td>348016.0</td>\n",
              "      <td>0.020795</td>\n",
              "      <td>0.142698</td>\n",
              "      <td>0.0</td>\n",
              "      <td>0.0</td>\n",
              "      <td>0.0</td>\n",
              "      <td>0.0</td>\n",
              "      <td>1.0</td>\n",
              "    </tr>\n",
              "    <tr>\n",
              "      <th>feat_D</th>\n",
              "      <td>348016.0</td>\n",
              "      <td>0.051251</td>\n",
              "      <td>0.220509</td>\n",
              "      <td>0.0</td>\n",
              "      <td>0.0</td>\n",
              "      <td>0.0</td>\n",
              "      <td>0.0</td>\n",
              "      <td>1.0</td>\n",
              "    </tr>\n",
              "    <tr>\n",
              "      <th>feat_E</th>\n",
              "      <td>348016.0</td>\n",
              "      <td>0.073359</td>\n",
              "      <td>0.260725</td>\n",
              "      <td>0.0</td>\n",
              "      <td>0.0</td>\n",
              "      <td>0.0</td>\n",
              "      <td>0.0</td>\n",
              "      <td>1.0</td>\n",
              "    </tr>\n",
              "    <tr>\n",
              "      <th>feat_F</th>\n",
              "      <td>348016.0</td>\n",
              "      <td>0.036826</td>\n",
              "      <td>0.188334</td>\n",
              "      <td>0.0</td>\n",
              "      <td>0.0</td>\n",
              "      <td>0.0</td>\n",
              "      <td>0.0</td>\n",
              "      <td>1.0</td>\n",
              "    </tr>\n",
              "    <tr>\n",
              "      <th>...</th>\n",
              "      <td>...</td>\n",
              "      <td>...</td>\n",
              "      <td>...</td>\n",
              "      <td>...</td>\n",
              "      <td>...</td>\n",
              "      <td>...</td>\n",
              "      <td>...</td>\n",
              "      <td>...</td>\n",
              "    </tr>\n",
              "    <tr>\n",
              "      <th>WNK3_HUMAN</th>\n",
              "      <td>348016.0</td>\n",
              "      <td>0.003592</td>\n",
              "      <td>0.059824</td>\n",
              "      <td>0.0</td>\n",
              "      <td>0.0</td>\n",
              "      <td>0.0</td>\n",
              "      <td>0.0</td>\n",
              "      <td>1.0</td>\n",
              "    </tr>\n",
              "    <tr>\n",
              "      <th>WRN_HUMAN</th>\n",
              "      <td>348016.0</td>\n",
              "      <td>0.002945</td>\n",
              "      <td>0.054190</td>\n",
              "      <td>0.0</td>\n",
              "      <td>0.0</td>\n",
              "      <td>0.0</td>\n",
              "      <td>0.0</td>\n",
              "      <td>1.0</td>\n",
              "    </tr>\n",
              "    <tr>\n",
              "      <th>XPO1_HUMAN</th>\n",
              "      <td>348016.0</td>\n",
              "      <td>0.002135</td>\n",
              "      <td>0.046156</td>\n",
              "      <td>0.0</td>\n",
              "      <td>0.0</td>\n",
              "      <td>0.0</td>\n",
              "      <td>0.0</td>\n",
              "      <td>1.0</td>\n",
              "    </tr>\n",
              "    <tr>\n",
              "      <th>ZGPAT_HUMAN</th>\n",
              "      <td>348016.0</td>\n",
              "      <td>0.001080</td>\n",
              "      <td>0.032852</td>\n",
              "      <td>0.0</td>\n",
              "      <td>0.0</td>\n",
              "      <td>0.0</td>\n",
              "      <td>0.0</td>\n",
              "      <td>1.0</td>\n",
              "    </tr>\n",
              "    <tr>\n",
              "      <th>ZN224_HUMAN</th>\n",
              "      <td>348016.0</td>\n",
              "      <td>0.001434</td>\n",
              "      <td>0.037839</td>\n",
              "      <td>0.0</td>\n",
              "      <td>0.0</td>\n",
              "      <td>0.0</td>\n",
              "      <td>0.0</td>\n",
              "      <td>1.0</td>\n",
              "    </tr>\n",
              "  </tbody>\n",
              "</table>\n",
              "<p>762 rows × 8 columns</p>\n",
              "</div>\n",
              "      <button class=\"colab-df-convert\" onclick=\"convertToInteractive('df-d50a1a1b-77c4-432e-9e5a-2937a0da3656')\"\n",
              "              title=\"Convert this dataframe to an interactive table.\"\n",
              "              style=\"display:none;\">\n",
              "        \n",
              "  <svg xmlns=\"http://www.w3.org/2000/svg\" height=\"24px\"viewBox=\"0 0 24 24\"\n",
              "       width=\"24px\">\n",
              "    <path d=\"M0 0h24v24H0V0z\" fill=\"none\"/>\n",
              "    <path d=\"M18.56 5.44l.94 2.06.94-2.06 2.06-.94-2.06-.94-.94-2.06-.94 2.06-2.06.94zm-11 1L8.5 8.5l.94-2.06 2.06-.94-2.06-.94L8.5 2.5l-.94 2.06-2.06.94zm10 10l.94 2.06.94-2.06 2.06-.94-2.06-.94-.94-2.06-.94 2.06-2.06.94z\"/><path d=\"M17.41 7.96l-1.37-1.37c-.4-.4-.92-.59-1.43-.59-.52 0-1.04.2-1.43.59L10.3 9.45l-7.72 7.72c-.78.78-.78 2.05 0 2.83L4 21.41c.39.39.9.59 1.41.59.51 0 1.02-.2 1.41-.59l7.78-7.78 2.81-2.81c.8-.78.8-2.07 0-2.86zM5.41 20L4 18.59l7.72-7.72 1.47 1.35L5.41 20z\"/>\n",
              "  </svg>\n",
              "      </button>\n",
              "      \n",
              "  <style>\n",
              "    .colab-df-container {\n",
              "      display:flex;\n",
              "      flex-wrap:wrap;\n",
              "      gap: 12px;\n",
              "    }\n",
              "\n",
              "    .colab-df-convert {\n",
              "      background-color: #E8F0FE;\n",
              "      border: none;\n",
              "      border-radius: 50%;\n",
              "      cursor: pointer;\n",
              "      display: none;\n",
              "      fill: #1967D2;\n",
              "      height: 32px;\n",
              "      padding: 0 0 0 0;\n",
              "      width: 32px;\n",
              "    }\n",
              "\n",
              "    .colab-df-convert:hover {\n",
              "      background-color: #E2EBFA;\n",
              "      box-shadow: 0px 1px 2px rgba(60, 64, 67, 0.3), 0px 1px 3px 1px rgba(60, 64, 67, 0.15);\n",
              "      fill: #174EA6;\n",
              "    }\n",
              "\n",
              "    [theme=dark] .colab-df-convert {\n",
              "      background-color: #3B4455;\n",
              "      fill: #D2E3FC;\n",
              "    }\n",
              "\n",
              "    [theme=dark] .colab-df-convert:hover {\n",
              "      background-color: #434B5C;\n",
              "      box-shadow: 0px 1px 3px 1px rgba(0, 0, 0, 0.15);\n",
              "      filter: drop-shadow(0px 1px 2px rgba(0, 0, 0, 0.3));\n",
              "      fill: #FFFFFF;\n",
              "    }\n",
              "  </style>\n",
              "\n",
              "      <script>\n",
              "        const buttonEl =\n",
              "          document.querySelector('#df-d50a1a1b-77c4-432e-9e5a-2937a0da3656 button.colab-df-convert');\n",
              "        buttonEl.style.display =\n",
              "          google.colab.kernel.accessAllowed ? 'block' : 'none';\n",
              "\n",
              "        async function convertToInteractive(key) {\n",
              "          const element = document.querySelector('#df-d50a1a1b-77c4-432e-9e5a-2937a0da3656');\n",
              "          const dataTable =\n",
              "            await google.colab.kernel.invokeFunction('convertToInteractive',\n",
              "                                                     [key], {});\n",
              "          if (!dataTable) return;\n",
              "\n",
              "          const docLinkHtml = 'Like what you see? Visit the ' +\n",
              "            '<a target=\"_blank\" href=https://colab.research.google.com/notebooks/data_table.ipynb>data table notebook</a>'\n",
              "            + ' to learn more about interactive tables.';\n",
              "          element.innerHTML = '';\n",
              "          dataTable['output_type'] = 'display_data';\n",
              "          await google.colab.output.renderOutput(dataTable, element);\n",
              "          const docLink = document.createElement('div');\n",
              "          docLink.innerHTML = docLinkHtml;\n",
              "          element.appendChild(docLink);\n",
              "        }\n",
              "      </script>\n",
              "    </div>\n",
              "  </div>\n",
              "  "
            ]
          },
          "metadata": {},
          "execution_count": 25
        }
      ],
      "source": [
        "train_stats = train_dataset.describe()\n",
        "train_stats\n",
        "train_stats = train_stats.transpose()\n",
        "train_stats"
      ]
    },
    {
      "cell_type": "code",
      "execution_count": null,
      "metadata": {
        "id": "WMV0JtjoJZ15"
      },
      "outputs": [],
      "source": [
        "# define a function to normalize the data set. note here we normalized boolean variables, this may/may not be a good idea.\n",
        "def norm(x):\n",
        "    return (x - train_stats['mean']) / train_stats['std']\n",
        "normed_train_data = norm(train_dataset)\n",
        "normed_test_data = norm(test_dataset)\n",
        "normed_valid_dataset = norm(valid_dataset)\n",
        "normed_test_ds = norm(test_ds)\n"
      ]
    },
    {
      "cell_type": "code",
      "execution_count": null,
      "metadata": {
        "colab": {
          "base_uri": "https://localhost:8080/"
        },
        "id": "8CCJwybzJnQs",
        "outputId": "09c6fde0-366d-470f-f710-107725791738"
      },
      "outputs": [
        {
          "output_type": "stream",
          "name": "stdout",
          "text": [
            "Train/Test/Validate splits: \n",
            "Train    : (348016, 762) \n",
            "Test     : (74575, 762) \n",
            "Validate : (74575, 762) \n",
            "Train/Test/Validate labels: \n",
            "Train Labels : (348016,) \n",
            "Test Labels  : (74575,) \n",
            "Test Labels  : (74575,) \n"
          ]
        }
      ],
      "source": [
        "print(r'Train/Test/Validate splits: ')\n",
        "print(f'Train    : {normed_train_data.shape} ')\n",
        "print(f'Test     : {normed_test_data.shape} ')\n",
        "print(f'Validate : {normed_valid_dataset.shape} ')\n",
        "\n",
        "print(r'Train/Test/Validate labels: ')\n",
        "print(f'Train Labels : {train_labels.shape} ')\n",
        "print(f'Test Labels  : {test_labels.shape} ')\n",
        "print(f'Test Labels  : {valid_labels.shape} ')\n"
      ]
    },
    {
      "cell_type": "markdown",
      "metadata": {
        "id": "Rc7wrJLMYeXq"
      },
      "source": [
        "#Build a Neural Network Model:"
      ]
    },
    {
      "cell_type": "code",
      "execution_count": null,
      "metadata": {
        "id": "gEfxZ1-_YiWS",
        "colab": {
          "base_uri": "https://localhost:8080/"
        },
        "outputId": "d1d5239d-af64-487e-d6f2-5ac5c597d736"
      },
      "outputs": [
        {
          "output_type": "stream",
          "name": "stdout",
          "text": [
            "Here is a summary of this model: \n",
            "Model: \"sequential\"\n",
            "_________________________________________________________________\n",
            " Layer (type)                Output Shape              Param #   \n",
            "=================================================================\n",
            " dense (Dense)               (None, 5)                 3815      \n",
            "                                                                 \n",
            " dense_1 (Dense)             (None, 5)                 30        \n",
            "                                                                 \n",
            " dense_2 (Dense)             (None, 1)                 6         \n",
            "                                                                 \n",
            "=================================================================\n",
            "Total params: 3,851\n",
            "Trainable params: 3,851\n",
            "Non-trainable params: 0\n",
            "_________________________________________________________________\n"
          ]
        }
      ],
      "source": [
        "# We decalred a function for creating a model.\n",
        "def build_model3_five_hidden_layers():\n",
        "    # Keras model object created from Sequential class. This will be the container that contains all layers.\n",
        "    model = Sequential()\n",
        "\n",
        "    # The model so far is empty. It can be constructed by adding layers and compilation.\n",
        "    # This Keras model with multiple hidden layers.\n",
        "    \n",
        "    # Input Layer with 64 Neurons\n",
        "    model.add(Dense(5, input_shape = (normed_train_data.shape[1],)))    # Input layer => input_shape must be explicitly designated\n",
        "    #model.add(Activation('tanh')) # relu or sigmoid.\n",
        "    \n",
        "   # model.add(Dense(32,Activation('relu')))                         # Hidden layer 1 => only output dimension should be designated (output dimension = # of Neurons = 64)\n",
        "    \n",
        "    \n",
        "   # model.add(Dense(32, Activation('tanh')))                         # Hidden layer 2 => only output dimension should be designated (output dimension = # of Neurons = 64)\n",
        "    \n",
        "    \n",
        "    #model.add(Dense(32, Activation('tanh')))                         # Hidden layer 3 => only output dimension should be designated (output dimension = # of Neurons = 64)\n",
        "    \n",
        "    \n",
        "   # model.add(Dense(32, Activation('tanh')))                         # Hidden layer 4 => only output dimension should be designated (output dimension = # of Neurons = 64)\n",
        "    \n",
        "    \n",
        "    model.add(Dense(5, Activation('tanh')))                         # Hidden layer 5 => only output dimension should be designated (output dimension = # of Neurons = 64)\n",
        "\n",
        "    \n",
        "    model.add(Dense(1))                          # Output layer => output dimension = 1 since it is a regression problem\n",
        "    \n",
        "    # Activation: sigmoid, softmax, tanh, relu, LeakyReLU. \n",
        "    #Optimizer: SGD, Adam, RMSProp, etc. # https://www.tensorflow.org/api_docs/python/tf/keras/optimizers\n",
        "    learning_rate = 0.0001\n",
        "    optimizer = optimizers.SGD(learning_rate)\n",
        "    model.compile(loss=tf.keras.losses.BinaryCrossentropy(from_logits=True),\n",
        "                optimizer=optimizer,\n",
        "                metrics=['accuracy']) \n",
        "    return model\n",
        "    \n",
        "\n",
        "model3 = build_model3_five_hidden_layers()\n",
        "print('Here is a summary of this model: ')\n",
        "model3.summary()\n"
      ]
    },
    {
      "cell_type": "code",
      "execution_count": null,
      "metadata": {
        "colab": {
          "base_uri": "https://localhost:8080/"
        },
        "id": "XfqdtZgffG2L",
        "outputId": "fabdcb29-11bf-40e9-952c-904b2e618f77"
      },
      "outputs": [
        {
          "output_type": "stream",
          "name": "stdout",
          "text": [
            "1/1 [==============================] - 0s 167ms/step\n"
          ]
        },
        {
          "output_type": "execute_result",
          "data": {
            "text/plain": [
              "array([[ 1.1620432 ],\n",
              "       [-0.8257959 ],\n",
              "       [-0.63232815],\n",
              "       [-0.24358046],\n",
              "       [ 0.6298599 ],\n",
              "       [-0.14997098],\n",
              "       [ 0.28408274],\n",
              "       [ 0.07928035],\n",
              "       [-0.54921925],\n",
              "       [-0.30343437]], dtype=float32)"
            ]
          },
          "metadata": {},
          "execution_count": 29
        }
      ],
      "source": [
        "# Test the model before training (this will use the initial weights.) which in fact will generate random values.\n",
        "example_batch = normed_train_data[:10] # take the first 10 data points from the training data.\n",
        "example_result = model3.predict(example_batch)\n",
        "example_result"
      ]
    },
    {
      "cell_type": "markdown",
      "metadata": {
        "id": "wcId7XqLfMnv"
      },
      "source": [
        "# Save checkpoints during training"
      ]
    },
    {
      "cell_type": "code",
      "execution_count": null,
      "metadata": {
        "id": "XLz0H4hofNpU"
      },
      "outputs": [],
      "source": [
        "# pip install -q pyyaml h5py  # Required to save models in HDF5 format\n",
        "\n",
        "checkpoint_path = r\".\\models\\protein_binding.ckpt\"\n",
        "\n",
        "# Create a callback that saves the model's weights\n",
        "ckpt_callback = tf.keras.callbacks.ModelCheckpoint(filepath=checkpoint_path,\n",
        "                                                 monitor='val_loss', # or val_accuracy if you have it.\n",
        "                                                 save_best_only=True, # Default false. If you don't change the file name then the output will be overritten at each step and only the last model will be saved.\n",
        "                                                 save_weights_only=True, # True => model.save_weights (weights and no structure, you need JSON file for structure), False => model.save (saves weights & structure)\n",
        "                                                 verbose=0,\n",
        "                                                  )\n",
        "\n",
        "# epoch: how many times the dataset was cycled through the module at most. Note: epoch=7 maybe a better model than epoch=8 or 9"
      ]
    },
    {
      "cell_type": "markdown",
      "metadata": {
        "id": "rOyUAuBhfsWF"
      },
      "source": [
        "# Training the model we built above. (only selected feat_x variables)"
      ]
    },
    {
      "cell_type": "code",
      "execution_count": null,
      "metadata": {
        "colab": {
          "base_uri": "https://localhost:8080/"
        },
        "id": "--Eq8NfWftdF",
        "outputId": "4fdb2e88-141f-4bc0-d0e2-227638f35768"
      },
      "outputs": [
        {
          "output_type": "stream",
          "name": "stdout",
          "text": [
            "Here is a summary of this model: \n",
            "Model: \"sequential_1\"\n",
            "_________________________________________________________________\n",
            " Layer (type)                Output Shape              Param #   \n",
            "=================================================================\n",
            " dense_3 (Dense)             (None, 5)                 3815      \n",
            "                                                                 \n",
            " dense_4 (Dense)             (None, 5)                 30        \n",
            "                                                                 \n",
            " dense_5 (Dense)             (None, 1)                 6         \n",
            "                                                                 \n",
            "=================================================================\n",
            "Total params: 3,851\n",
            "Trainable params: 3,851\n",
            "Non-trainable params: 0\n",
            "_________________________________________________________________\n",
            "Epoch 1/5\n",
            "10872/10876 [============================>.] - ETA: 0s - loss: 0.5887 - accuracy: 0.7989\n",
            "Epoch: 0, accuracy:0.7990,  loss:0.5887,  val_accuracy:0.8983,  val_loss:0.4395,  \n",
            "10876/10876 [==============================] - 24s 2ms/step - loss: 0.5887 - accuracy: 0.7990 - val_loss: 0.4395 - val_accuracy: 0.8983\n",
            "Epoch 2/5\n",
            "10876/10876 [==============================] - 20s 2ms/step - loss: 0.3635 - accuracy: 0.9287 - val_loss: 0.3076 - val_accuracy: 0.9459\n",
            "Epoch 3/5\n",
            "10876/10876 [==============================] - 21s 2ms/step - loss: 0.2729 - accuracy: 0.9541 - val_loss: 0.2462 - val_accuracy: 0.9580\n",
            "Epoch 4/5\n",
            "10876/10876 [==============================] - 45s 4ms/step - loss: 0.2275 - accuracy: 0.9598 - val_loss: 0.2130 - val_accuracy: 0.9609\n",
            "Epoch 5/5\n",
            "10876/10876 [==============================] - 25s 2ms/step - loss: 0.2020 - accuracy: 0.9617 - val_loss: 0.1935 - val_accuracy: 0.9622\n",
            "CPU times: user 2min 3s, sys: 10.9 s, total: 2min 14s\n",
            "Wall time: 2min 27s\n"
          ]
        }
      ],
      "source": [
        "%%time\n",
        "EPOCHS = 5\n",
        "#batch_size = 128 # 6 iteration. For thousands of rows choose 32 is fine, for handurds thousands of rows choose 128 or larger. \n",
        "\n",
        "model = build_model3_five_hidden_layers()\n",
        "print('Here is a summary of this model: ')\n",
        "model.summary()\n",
        "\n",
        "\n",
        "#with tf.device('/CPU:0'): # it can be with '/CPU:0'\n",
        "# with tf.device('/GPU:0'): # comment the previous line and uncomment this line to train with a GPU, if available.\n",
        "history = model.fit(\n",
        "        normed_train_data, \n",
        "        train_labels,\n",
        "       # batch_size = batch_size,\n",
        "        epochs=EPOCHS, \n",
        "        verbose=1,\n",
        "        shuffle=True,\n",
        "        #steps_per_epoch = int(normed_train_data.shape[0] / batch_size) ,\n",
        "        validation_data = (normed_valid_dataset, valid_labels),\n",
        "        callbacks=[tfdocs.modeling.EpochDots(), \n",
        "                 ckpt_callback\n",
        "                  ],  \n",
        "    )"
      ]
    },
    {
      "cell_type": "code",
      "execution_count": null,
      "metadata": {
        "colab": {
          "base_uri": "https://localhost:8080/",
          "height": 224
        },
        "id": "-pE1bno2fwHX",
        "outputId": "1a251ce4-18b7-4006-ce89-12e3b69fbe98"
      },
      "outputs": [
        {
          "output_type": "stream",
          "name": "stdout",
          "text": [
            "Summary of the results after each epoch: \n"
          ]
        },
        {
          "output_type": "execute_result",
          "data": {
            "text/plain": [
              "       loss  accuracy  val_loss  val_accuracy  epoch\n",
              "0  0.588675  0.798986  0.439490      0.898304      0\n",
              "1  0.363512  0.928679  0.307647      0.945947      1\n",
              "2  0.272904  0.954129  0.246180      0.957975      2\n",
              "3  0.227513  0.959801  0.213044      0.960872      3\n",
              "4  0.202013  0.961671  0.193531      0.962213      4"
            ],
            "text/html": [
              "\n",
              "  <div id=\"df-d82a31c8-e033-43a0-b03e-95917c6ead42\">\n",
              "    <div class=\"colab-df-container\">\n",
              "      <div>\n",
              "<style scoped>\n",
              "    .dataframe tbody tr th:only-of-type {\n",
              "        vertical-align: middle;\n",
              "    }\n",
              "\n",
              "    .dataframe tbody tr th {\n",
              "        vertical-align: top;\n",
              "    }\n",
              "\n",
              "    .dataframe thead th {\n",
              "        text-align: right;\n",
              "    }\n",
              "</style>\n",
              "<table border=\"1\" class=\"dataframe\">\n",
              "  <thead>\n",
              "    <tr style=\"text-align: right;\">\n",
              "      <th></th>\n",
              "      <th>loss</th>\n",
              "      <th>accuracy</th>\n",
              "      <th>val_loss</th>\n",
              "      <th>val_accuracy</th>\n",
              "      <th>epoch</th>\n",
              "    </tr>\n",
              "  </thead>\n",
              "  <tbody>\n",
              "    <tr>\n",
              "      <th>0</th>\n",
              "      <td>0.588675</td>\n",
              "      <td>0.798986</td>\n",
              "      <td>0.439490</td>\n",
              "      <td>0.898304</td>\n",
              "      <td>0</td>\n",
              "    </tr>\n",
              "    <tr>\n",
              "      <th>1</th>\n",
              "      <td>0.363512</td>\n",
              "      <td>0.928679</td>\n",
              "      <td>0.307647</td>\n",
              "      <td>0.945947</td>\n",
              "      <td>1</td>\n",
              "    </tr>\n",
              "    <tr>\n",
              "      <th>2</th>\n",
              "      <td>0.272904</td>\n",
              "      <td>0.954129</td>\n",
              "      <td>0.246180</td>\n",
              "      <td>0.957975</td>\n",
              "      <td>2</td>\n",
              "    </tr>\n",
              "    <tr>\n",
              "      <th>3</th>\n",
              "      <td>0.227513</td>\n",
              "      <td>0.959801</td>\n",
              "      <td>0.213044</td>\n",
              "      <td>0.960872</td>\n",
              "      <td>3</td>\n",
              "    </tr>\n",
              "    <tr>\n",
              "      <th>4</th>\n",
              "      <td>0.202013</td>\n",
              "      <td>0.961671</td>\n",
              "      <td>0.193531</td>\n",
              "      <td>0.962213</td>\n",
              "      <td>4</td>\n",
              "    </tr>\n",
              "  </tbody>\n",
              "</table>\n",
              "</div>\n",
              "      <button class=\"colab-df-convert\" onclick=\"convertToInteractive('df-d82a31c8-e033-43a0-b03e-95917c6ead42')\"\n",
              "              title=\"Convert this dataframe to an interactive table.\"\n",
              "              style=\"display:none;\">\n",
              "        \n",
              "  <svg xmlns=\"http://www.w3.org/2000/svg\" height=\"24px\"viewBox=\"0 0 24 24\"\n",
              "       width=\"24px\">\n",
              "    <path d=\"M0 0h24v24H0V0z\" fill=\"none\"/>\n",
              "    <path d=\"M18.56 5.44l.94 2.06.94-2.06 2.06-.94-2.06-.94-.94-2.06-.94 2.06-2.06.94zm-11 1L8.5 8.5l.94-2.06 2.06-.94-2.06-.94L8.5 2.5l-.94 2.06-2.06.94zm10 10l.94 2.06.94-2.06 2.06-.94-2.06-.94-.94-2.06-.94 2.06-2.06.94z\"/><path d=\"M17.41 7.96l-1.37-1.37c-.4-.4-.92-.59-1.43-.59-.52 0-1.04.2-1.43.59L10.3 9.45l-7.72 7.72c-.78.78-.78 2.05 0 2.83L4 21.41c.39.39.9.59 1.41.59.51 0 1.02-.2 1.41-.59l7.78-7.78 2.81-2.81c.8-.78.8-2.07 0-2.86zM5.41 20L4 18.59l7.72-7.72 1.47 1.35L5.41 20z\"/>\n",
              "  </svg>\n",
              "      </button>\n",
              "      \n",
              "  <style>\n",
              "    .colab-df-container {\n",
              "      display:flex;\n",
              "      flex-wrap:wrap;\n",
              "      gap: 12px;\n",
              "    }\n",
              "\n",
              "    .colab-df-convert {\n",
              "      background-color: #E8F0FE;\n",
              "      border: none;\n",
              "      border-radius: 50%;\n",
              "      cursor: pointer;\n",
              "      display: none;\n",
              "      fill: #1967D2;\n",
              "      height: 32px;\n",
              "      padding: 0 0 0 0;\n",
              "      width: 32px;\n",
              "    }\n",
              "\n",
              "    .colab-df-convert:hover {\n",
              "      background-color: #E2EBFA;\n",
              "      box-shadow: 0px 1px 2px rgba(60, 64, 67, 0.3), 0px 1px 3px 1px rgba(60, 64, 67, 0.15);\n",
              "      fill: #174EA6;\n",
              "    }\n",
              "\n",
              "    [theme=dark] .colab-df-convert {\n",
              "      background-color: #3B4455;\n",
              "      fill: #D2E3FC;\n",
              "    }\n",
              "\n",
              "    [theme=dark] .colab-df-convert:hover {\n",
              "      background-color: #434B5C;\n",
              "      box-shadow: 0px 1px 3px 1px rgba(0, 0, 0, 0.15);\n",
              "      filter: drop-shadow(0px 1px 2px rgba(0, 0, 0, 0.3));\n",
              "      fill: #FFFFFF;\n",
              "    }\n",
              "  </style>\n",
              "\n",
              "      <script>\n",
              "        const buttonEl =\n",
              "          document.querySelector('#df-d82a31c8-e033-43a0-b03e-95917c6ead42 button.colab-df-convert');\n",
              "        buttonEl.style.display =\n",
              "          google.colab.kernel.accessAllowed ? 'block' : 'none';\n",
              "\n",
              "        async function convertToInteractive(key) {\n",
              "          const element = document.querySelector('#df-d82a31c8-e033-43a0-b03e-95917c6ead42');\n",
              "          const dataTable =\n",
              "            await google.colab.kernel.invokeFunction('convertToInteractive',\n",
              "                                                     [key], {});\n",
              "          if (!dataTable) return;\n",
              "\n",
              "          const docLinkHtml = 'Like what you see? Visit the ' +\n",
              "            '<a target=\"_blank\" href=https://colab.research.google.com/notebooks/data_table.ipynb>data table notebook</a>'\n",
              "            + ' to learn more about interactive tables.';\n",
              "          element.innerHTML = '';\n",
              "          dataTable['output_type'] = 'display_data';\n",
              "          await google.colab.output.renderOutput(dataTable, element);\n",
              "          const docLink = document.createElement('div');\n",
              "          docLink.innerHTML = docLinkHtml;\n",
              "          element.appendChild(docLink);\n",
              "        }\n",
              "      </script>\n",
              "    </div>\n",
              "  </div>\n",
              "  "
            ]
          },
          "metadata": {},
          "execution_count": 32
        }
      ],
      "source": [
        "print('Summary of the results after each epoch: ')\n",
        "hist = pd.DataFrame(history.history)\n",
        "hist['epoch'] = history.epoch\n",
        "hist"
      ]
    },
    {
      "cell_type": "markdown",
      "metadata": {
        "id": "RuoxOTYVfOaM"
      },
      "source": [
        "#See how the training went by plotting the loss/Accuracy across epochs"
      ]
    },
    {
      "cell_type": "code",
      "source": [
        "from matplotlib import pyplot as plt\n",
        "plt.plot(history.history['accuracy'])\n",
        "plt.plot(history.history['val_accuracy'])\n",
        "plt.title('model accuracy')\n",
        "plt.ylabel('accuracy')\n",
        "plt.xlabel('epoch')\n",
        "plt.legend(['Train', 'Cross-Validation'], loc='upper left')\n",
        "plt.show()"
      ],
      "metadata": {
        "id": "bpQHZY_OYH1L",
        "colab": {
          "base_uri": "https://localhost:8080/",
          "height": 295
        },
        "outputId": "7cf5d3ca-c027-42a7-cb92-8f60f68f7710"
      },
      "execution_count": null,
      "outputs": [
        {
          "output_type": "display_data",
          "data": {
            "text/plain": [
              "<Figure size 432x288 with 1 Axes>"
            ],
            "image/png": "[encoded data removed]"
          },
          "metadata": {
            "needs_background": "light"
          }
        }
      ]
    },
    {
      "cell_type": "code",
      "source": [
        "plt.plot(history.history['loss'])\n",
        "plt.plot(history.history['val_loss'])\n",
        "plt.title('Model Loss')\n",
        "plt.ylabel('Loss')\n",
        "plt.xlabel('epoch')\n",
        "plt.legend(['Train', 'Cross-Validation'], loc='upper left')\n",
        "plt.show()"
      ],
      "metadata": {
        "id": "IggnnoRjYH9m",
        "colab": {
          "base_uri": "https://localhost:8080/",
          "height": 295
        },
        "outputId": "7cc42b16-1a08-4a55-ab37-7d35b8b12e0e"
      },
      "execution_count": null,
      "outputs": [
        {
          "output_type": "display_data",
          "data": {
            "text/plain": [
              "<Figure size 432x288 with 1 Axes>"
            ],
            "image/png": "[encoded data removed]"
          },
          "metadata": {
            "needs_background": "light"
          }
        }
      ]
    },
    {
      "cell_type": "code",
      "source": [
        "print('Train Split: ')\n",
        "loss, accuracy = model.evaluate(normed_train_data, train_labels, verbose=1)\n",
        "\n",
        "print(\"Accuracy   : {:5.2f} \".format(accuracy))\n"
      ],
      "metadata": {
        "id": "iEWQ5y6EYNVv",
        "colab": {
          "base_uri": "https://localhost:8080/"
        },
        "outputId": "1c6aecb0-dfdc-4ba1-ad94-e1cbbe41c1ef"
      },
      "execution_count": null,
      "outputs": [
        {
          "output_type": "stream",
          "name": "stdout",
          "text": [
            "Train Split: \n"
          ]
        }
      ]
    },
    {
      "cell_type": "code",
      "source": [
        "print('Evaluation Split: ')\n",
        "loss, accuracy =  model.evaluate(normed_valid_dataset, valid_labels, verbose=2)\n",
        "\n",
        "print(\"Accuracy   : {:5.2f} \".format(accuracy))"
      ],
      "metadata": {
        "id": "KrzyXBARYPiT"
      },
      "execution_count": null,
      "outputs": []
    },
    {
      "cell_type": "code",
      "source": [
        "print('Test Split: ')\n",
        "loss, accuracy =  model.evaluate(normed_test_data, test_labels, verbose=2)\n",
        "\n",
        "print(\"Accuracy   : {:5.2f} \".format(accuracy))\n"
      ],
      "metadata": {
        "id": "EVsIfSQ3YQoC"
      },
      "execution_count": null,
      "outputs": []
    },
    {
      "cell_type": "code",
      "source": [
        "1-sum(test_labels)/len(test_labels)"
      ],
      "metadata": {
        "id": "FysswmnslyXt"
      },
      "execution_count": null,
      "outputs": []
    },
    {
      "cell_type": "code",
      "source": [
        "# import seaborn as sns\n",
        "# import matplotlib.pyplot as plt     \n",
        "from sklearn.metrics import confusion_matrix\n",
        "\n",
        "\n",
        "ax= plt.subplot()\n",
        "predict_results = model.predict(normed_test_data)\n",
        "\n",
        "predict_results = (predict_results > 0.5)\n",
        "\n",
        "cm = confusion_matrix(test_labels, predict_results)\n",
        "\n",
        "sns.heatmap(cm, annot=True, ax = ax); #annot=True to annotate cells\n",
        "\n",
        "# labels, title and ticks\n",
        "ax.set_xlabel('Predicted labels');ax.set_ylabel('True labels'); \n",
        "ax.set_title('Confusion Matrix'); \n",
        "ax.xaxis.set_ticklabels(['Positive', 'Negative']); ax.yaxis.set_ticklabels(['Positive', 'Negative']);\n"
      ],
      "metadata": {
        "id": "Ty8QJ1JqYSY8"
      },
      "execution_count": null,
      "outputs": []
    },
    {
      "cell_type": "code",
      "source": [
        "predict_results = model.predict(test_ds)\n"
      ],
      "metadata": {
        "colab": {
          "base_uri": "https://localhost:8080/",
          "height": 572
        },
        "id": "Vzjc4zBwiZlv",
        "outputId": "b0680a17-6d7a-44ba-d9eb-849a560bf54c"
      },
      "execution_count": null,
      "outputs": [
        {
          "output_type": "error",
          "ename": "ValueError",
          "evalue": "ignored",
          "traceback": [
            "\u001b[0;31m---------------------------------------------------------------------------\u001b[0m",
            "\u001b[0;31mValueError\u001b[0m                                Traceback (most recent call last)",
            "\u001b[0;32m<ipython-input-33-9da2311fc129>\u001b[0m in \u001b[0;36m<module>\u001b[0;34m\u001b[0m\n\u001b[0;32m----> 1\u001b[0;31m \u001b[0mpredict_results\u001b[0m \u001b[0;34m=\u001b[0m \u001b[0mmodel\u001b[0m\u001b[0;34m.\u001b[0m\u001b[0mpredict\u001b[0m\u001b[0;34m(\u001b[0m\u001b[0mtest_ds\u001b[0m\u001b[0;34m)\u001b[0m\u001b[0;34m\u001b[0m\u001b[0;34m\u001b[0m\u001b[0m\n\u001b[0m",
            "\u001b[0;32m/usr/local/lib/python3.8/dist-packages/keras/utils/traceback_utils.py\u001b[0m in \u001b[0;36merror_handler\u001b[0;34m(*args, **kwargs)\u001b[0m\n\u001b[1;32m     68\u001b[0m             \u001b[0;31m# To get the full stack trace, call:\u001b[0m\u001b[0;34m\u001b[0m\u001b[0;34m\u001b[0m\u001b[0;34m\u001b[0m\u001b[0m\n\u001b[1;32m     69\u001b[0m             \u001b[0;31m# `tf.debugging.disable_traceback_filtering()`\u001b[0m\u001b[0;34m\u001b[0m\u001b[0;34m\u001b[0m\u001b[0;34m\u001b[0m\u001b[0m\n\u001b[0;32m---> 70\u001b[0;31m             \u001b[0;32mraise\u001b[0m \u001b[0me\u001b[0m\u001b[0;34m.\u001b[0m\u001b[0mwith_traceback\u001b[0m\u001b[0;34m(\u001b[0m\u001b[0mfiltered_tb\u001b[0m\u001b[0;34m)\u001b[0m \u001b[0;32mfrom\u001b[0m \u001b[0;32mNone\u001b[0m\u001b[0;34m\u001b[0m\u001b[0;34m\u001b[0m\u001b[0m\n\u001b[0m\u001b[1;32m     71\u001b[0m         \u001b[0;32mfinally\u001b[0m\u001b[0;34m:\u001b[0m\u001b[0;34m\u001b[0m\u001b[0;34m\u001b[0m\u001b[0m\n\u001b[1;32m     72\u001b[0m             \u001b[0;32mdel\u001b[0m \u001b[0mfiltered_tb\u001b[0m\u001b[0;34m\u001b[0m\u001b[0;34m\u001b[0m\u001b[0m\n",
            "\u001b[0;32m/usr/local/lib/python3.8/dist-packages/keras/engine/training.py\u001b[0m in \u001b[0;36mtf__predict_function\u001b[0;34m(iterator)\u001b[0m\n\u001b[1;32m     13\u001b[0m                 \u001b[0;32mtry\u001b[0m\u001b[0;34m:\u001b[0m\u001b[0;34m\u001b[0m\u001b[0;34m\u001b[0m\u001b[0m\n\u001b[1;32m     14\u001b[0m                     \u001b[0mdo_return\u001b[0m \u001b[0;34m=\u001b[0m \u001b[0;32mTrue\u001b[0m\u001b[0;34m\u001b[0m\u001b[0;34m\u001b[0m\u001b[0m\n\u001b[0;32m---> 15\u001b[0;31m                     \u001b[0mretval_\u001b[0m \u001b[0;34m=\u001b[0m \u001b[0mag__\u001b[0m\u001b[0;34m.\u001b[0m\u001b[0mconverted_call\u001b[0m\u001b[0;34m(\u001b[0m\u001b[0mag__\u001b[0m\u001b[0;34m.\u001b[0m\u001b[0mld\u001b[0m\u001b[0;34m(\u001b[0m\u001b[0mstep_function\u001b[0m\u001b[0;34m)\u001b[0m\u001b[0;34m,\u001b[0m \u001b[0;34m(\u001b[0m\u001b[0mag__\u001b[0m\u001b[0;34m.\u001b[0m\u001b[0mld\u001b[0m\u001b[0;34m(\u001b[0m\u001b[0mself\u001b[0m\u001b[0;34m)\u001b[0m\u001b[0;34m,\u001b[0m \u001b[0mag__\u001b[0m\u001b[0;34m.\u001b[0m\u001b[0mld\u001b[0m\u001b[0;34m(\u001b[0m\u001b[0miterator\u001b[0m\u001b[0;34m)\u001b[0m\u001b[0;34m)\u001b[0m\u001b[0;34m,\u001b[0m \u001b[0;32mNone\u001b[0m\u001b[0;34m,\u001b[0m \u001b[0mfscope\u001b[0m\u001b[0;34m)\u001b[0m\u001b[0;34m\u001b[0m\u001b[0;34m\u001b[0m\u001b[0m\n\u001b[0m\u001b[1;32m     16\u001b[0m                 \u001b[0;32mexcept\u001b[0m\u001b[0;34m:\u001b[0m\u001b[0;34m\u001b[0m\u001b[0;34m\u001b[0m\u001b[0m\n\u001b[1;32m     17\u001b[0m                     \u001b[0mdo_return\u001b[0m \u001b[0;34m=\u001b[0m \u001b[0;32mFalse\u001b[0m\u001b[0;34m\u001b[0m\u001b[0;34m\u001b[0m\u001b[0m\n",
            "\u001b[0;31mValueError\u001b[0m: in user code:\n\n    File \"/usr/local/lib/python3.8/dist-packages/keras/engine/training.py\", line 2137, in predict_function  *\n        return step_function(self, iterator)\n    File \"/usr/local/lib/python3.8/dist-packages/keras/engine/training.py\", line 2123, in step_function  **\n        outputs = model.distribute_strategy.run(run_step, args=(data,))\n    File \"/usr/local/lib/python3.8/dist-packages/keras/engine/training.py\", line 2111, in run_step  **\n        outputs = model.predict_step(data)\n    File \"/usr/local/lib/python3.8/dist-packages/keras/engine/training.py\", line 2079, in predict_step\n        return self(x, training=False)\n    File \"/usr/local/lib/python3.8/dist-packages/keras/utils/traceback_utils.py\", line 70, in error_handler\n        raise e.with_traceback(filtered_tb) from None\n    File \"/usr/local/lib/python3.8/dist-packages/keras/engine/input_spec.py\", line 295, in assert_input_compatibility\n        raise ValueError(\n\n    ValueError: Input 0 of layer \"sequential_1\" is incompatible with the layer: expected shape=(None, 762), found shape=(None, 208)\n"
          ]
        }
      ]
    },
    {
      "cell_type": "code",
      "source": [
        "predict_results.to_csv"
      ],
      "metadata": {
        "id": "zf_T_SYeit4u"
      },
      "execution_count": null,
      "outputs": []
    },
    {
      "cell_type": "markdown",
      "metadata": {
        "id": "60oUSkk_hDeJ"
      },
      "source": [
        "# Save and load the model (weights)\n",
        "# https://www.tensorflow.org/tutorials/keras/save_and_load"
      ]
    },
    {
      "cell_type": "markdown",
      "metadata": {
        "id": "psgDRVERhFZ1"
      },
      "source": [
        "## a. Manually save weights only (no structure will be saved)"
      ]
    },
    {
      "cell_type": "code",
      "execution_count": null,
      "metadata": {
        "id": "YgE_uJz0hG8n"
      },
      "outputs": [],
      "source": [
        "# a. Manually save weights only (no structure will be saved)\n",
        "#################################\n",
        "\n",
        "# Save the weights\n",
        "model.save_weights('./model_weights/my_checkpoint')\n",
        "\n",
        "# Create a new model instance\n",
        "model = build_model2_three_hidden_layers()\n",
        "\n",
        "# Restore the weights\n",
        "model.load_weights('./model_weights/my_checkpoint')\n",
        "\n",
        "# Evaluate the model\n",
        "loss, mae, mse, mape = model.evaluate(normed_test_data, test_labels, verbose=2)\n",
        "\n",
        "print(\"Testing set Mean Abs Error: {:5.2f} medv\".format(mae))"
      ]
    }
  ],
  "metadata": {
    "colab": {
      "provenance": []
    },
    "kernelspec": {
      "display_name": "Python 3",
      "name": "python3"
    },
    "language_info": {
      "name": "python"
    }
  },
  "nbformat": 4,
  "nbformat_minor": 0
}